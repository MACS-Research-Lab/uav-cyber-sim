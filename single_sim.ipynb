{
 "cells": [
  {
   "cell_type": "markdown",
   "metadata": {},
   "source": [
    "## Simple simulation \n",
    "\n",
    "This is for testing propouses"
   ]
  },
  {
   "cell_type": "code",
   "execution_count": 1,
   "metadata": {},
   "outputs": [],
   "source": [
    "import os\n",
    "import subprocess\n",
    "from pymavlink import mavutil\n",
    "\n",
    "from vehicle_logic import VehicleLogic"
   ]
  },
  {
   "cell_type": "markdown",
   "metadata": {},
   "source": [
    "## Kill all related processes"
   ]
  },
  {
   "cell_type": "code",
   "execution_count": 2,
   "metadata": {},
   "outputs": [],
   "source": [
    "for process in [\"QGroundControl\", \"gazebo\", \"sim_vehicle.py\", \"arducopter\", \"mavproxy\"]:\n",
    "    os.system(f\"pkill -9 -f {process}\")"
   ]
  },
  {
   "cell_type": "markdown",
   "metadata": {},
   "source": [
    "# Choose Simulator"
   ]
  },
  {
   "cell_type": "code",
   "execution_count": 3,
   "metadata": {},
   "outputs": [],
   "source": [
    "simulator ='gazebo' #'QGroundControl' # "
   ]
  },
  {
   "cell_type": "markdown",
   "metadata": {},
   "source": [
    "## Set simulator"
   ]
  },
  {
   "cell_type": "code",
   "execution_count": 4,
   "metadata": {},
   "outputs": [],
   "source": [
    "if simulator == 'QGroundControl':\n",
    "    vis_path = os.path.expanduser(\"~/QGroundControl.AppImage\")\n",
    "    vis_cmd =[vis_path]\n",
    "elif simulator == 'gazebo':\n",
    "    vis_path = os.path.expanduser(\"~/ardupilot_gazebo/worlds/iris_arducopter_runway.world\")\n",
    "    vis_cmd = [\"gazebo\", \"--verbose\", vis_path] "
   ]
  },
  {
   "cell_type": "code",
   "execution_count": 5,
   "metadata": {},
   "outputs": [],
   "source": [
    "vis_process = subprocess.Popen(\n",
    "    vis_cmd,\n",
    "    stdout=subprocess.DEVNULL,  # Suppress standard output\n",
    "    stderr=subprocess.DEVNULL,  # Suppress error output\n",
    "    shell=False  # Ensure safety when passing arguments\n",
    ")\n"
   ]
  },
  {
   "cell_type": "markdown",
   "metadata": {},
   "source": [
    "# Set Vehicle Autopilot"
   ]
  },
  {
   "cell_type": "code",
   "execution_count": 6,
   "metadata": {},
   "outputs": [
    {
     "data": {
      "text/plain": [
       "<Popen: returncode: None args: ['gnome-terminal', '--', 'bash', '-c', 'pytho...>"
      ]
     },
     "execution_count": 6,
     "metadata": {},
     "output_type": "execute_result"
    }
   ],
   "source": [
    "# Define the command string\n",
    "sim_vehicle_path = os.path.expanduser(\"~/ardupilot/Tools/autotest/sim_vehicle.py\")\n",
    "vehicle_cmd = f\"python3 {sim_vehicle_path} -v ArduCopter\" \n",
    "if simulator == 'gazebo':\n",
    "    vehicle_cmd += ' -f gazebo-iris'\n",
    "# Open a new terminal and run the command\n",
    "subprocess.Popen([\"gnome-terminal\", \"--\", \"bash\", \"-c\", f\"{vehicle_cmd}; exec bash\"])"
   ]
  },
  {
   "cell_type": "markdown",
   "metadata": {},
   "source": [
    "## Create Plan"
   ]
  },
  {
   "cell_type": "code",
   "execution_count": 7,
   "metadata": {},
   "outputs": [],
   "source": [
    "takeoff_pos=(-35.3633286,149.1652227,585,353)\n",
    "\n",
    "# Plan\n",
    "alt = 5\n",
    "dist = 10\n",
    "wps=[(0, 0, -alt), #takeoff point\n",
    "    (0,dist, -alt),\n",
    "    (dist, dist, -alt),\n",
    "    (dist, -dist, -alt),\n",
    "    (0, -dist, -alt),\n",
    "    (0, 0, -alt)]\n",
    "plan=['check_prearm','check_pos_est','mode_stabilize','mode_guided','arm','takeoff','fly','land']\n",
    "\n",
    "uavs_arg = []\n",
    "uav_arg={'takeoff_pos':takeoff_pos,\n",
    "        'waypoints':wps,\n",
    "        'plan': plan,\n",
    "        'wp_margin': 0.5}"
   ]
  },
  {
   "cell_type": "markdown",
   "metadata": {},
   "source": [
    "## Create UavLogic"
   ]
  },
  {
   "cell_type": "code",
   "execution_count": 8,
   "metadata": {},
   "outputs": [
    {
     "name": "stdout",
     "output_type": "stream",
     "text": [
      "vehicle 1 created\n"
     ]
    }
   ],
   "source": [
    "i=0\n",
    "connection = mavutil.mavlink_connection(f'udp:127.0.0.1:{14551+10*i}')\n",
    "connection.wait_heartbeat()\n",
    "uav=VehicleLogic(connection,**uav_arg)"
   ]
  },
  {
   "cell_type": "markdown",
   "metadata": {},
   "source": [
    "## Execute Plan"
   ]
  },
  {
   "cell_type": "code",
   "execution_count": 9,
   "metadata": {},
   "outputs": [
    {
     "name": "stdout",
     "output_type": "stream",
     "text": [
      "vehicle 1: action land is done\n",
      "vehicle 1: action check_prearm is done\n",
      "vehicle 1: action check_pos_est is done\n",
      "vehicle 1: action mode_stabilize is done\n",
      "vehicle 1: action mode_guided is done\n",
      "vehicle 1: action arm is done\n",
      "vehicle 1: action takeoff is done\n",
      "vehicle 1: action fly is done\n",
      "vehicle 1: action land is done\n"
     ]
    }
   ],
   "source": [
    "mission_incomplete = True\n",
    "while mission_incomplete:\n",
    "    mission_incomplete = uav.act_plan()"
   ]
  },
  {
   "cell_type": "markdown",
   "metadata": {},
   "source": [
    "## Kill all related process"
   ]
  },
  {
   "cell_type": "code",
   "execution_count": null,
   "metadata": {},
   "outputs": [],
   "source": [
    "for process in [\"QGroundControl\", \"sim_vehicle.py\", \"arducopter\", \"gazebo\", \"mavproxy\"]:\n",
    "    os.system(f\"pkill -9 -f {process}\")"
   ]
  },
  {
   "cell_type": "code",
   "execution_count": null,
   "metadata": {},
   "outputs": [],
   "source": []
  }
 ],
 "metadata": {
  "kernelspec": {
   "display_name": "Python 3",
   "language": "python",
   "name": "python3"
  },
  "language_info": {
   "codemirror_mode": {
    "name": "ipython",
    "version": 3
   },
   "file_extension": ".py",
   "mimetype": "text/x-python",
   "name": "python",
   "nbconvert_exporter": "python",
   "pygments_lexer": "ipython3",
   "version": "3.9.21"
  }
 },
 "nbformat": 4,
 "nbformat_minor": 2
}
