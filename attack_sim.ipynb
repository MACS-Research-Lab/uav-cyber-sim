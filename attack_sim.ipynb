{
 "cells": [
  {
   "cell_type": "markdown",
   "metadata": {},
   "source": [
    "## Swarm Simulation \n",
    "\n",
    "This is for testing propouses"
   ]
  },
  {
   "cell_type": "code",
   "execution_count": 1,
   "metadata": {},
   "outputs": [],
   "source": [
    "import os\n",
    "import subprocess\n",
    "from pymavlink import mavutil\n",
    "\n",
    "# Custom modules\n",
    "from vehicle_logic import VehicleLogic\n",
    "from helpers.change_coordinates import heading_to_yaw,find_spawns\n",
    "from helpers.gazebo_world import update_world"
   ]
  },
  {
   "cell_type": "markdown",
   "metadata": {},
   "source": [
    "## Kill all related process"
   ]
  },
  {
   "cell_type": "code",
   "execution_count": 2,
   "metadata": {},
   "outputs": [],
   "source": [
    "for process in [\"QGroundControl\", \"sim_vehicle.py\", \"arducopter\", \"gazebo\", \"mavproxy\"]:\n",
    "    os.system(f\"pkill -9 -f {process}\")"
   ]
  },
  {
   "cell_type": "markdown",
   "metadata": {},
   "source": [
    "## Paths"
   ]
  },
  {
   "cell_type": "code",
   "execution_count": 3,
   "metadata": {},
   "outputs": [],
   "source": [
    "QGC_path='~/QGroundControl.AppImage'\n",
    "gazebo_word_path=\"gazebo_worlds/attack.world\"\n",
    "ardupilot_vehicle_path='~/ardupilot/Tools/autotest/sim_vehicle.py'"
   ]
  },
  {
   "cell_type": "markdown",
   "metadata": {},
   "source": [
    "# Choose Simulator"
   ]
  },
  {
   "cell_type": "code",
   "execution_count": 4,
   "metadata": {},
   "outputs": [],
   "source": [
    "simulator ='gazebo' #'QGroundControl' # "
   ]
  },
  {
   "cell_type": "markdown",
   "metadata": {},
   "source": [
    "# Choose Initial Position"
   ]
  },
  {
   "cell_type": "code",
   "execution_count": 5,
   "metadata": {},
   "outputs": [],
   "source": [
    "offsets = [ #east, north, up, heading\n",
    "    (20, -10, 0, 0)]\n",
    "n_uavs = len(offsets)\n",
    "\n",
    "                # lat,long,alt,heading\n",
    "if simulator == 'QGroundControl':\n",
    "    home_position=(-35.3633245,149.1652241,0,90)\n",
    "    spawns=find_spawns(home_position, offsets)"
   ]
  },
  {
   "cell_type": "markdown",
   "metadata": {},
   "source": [
    "## Launch Simulator"
   ]
  },
  {
   "cell_type": "code",
   "execution_count": 6,
   "metadata": {},
   "outputs": [],
   "source": [
    "if simulator == 'QGroundControl':\n",
    "    sim_path = os.path.expanduser(QGC_path)\n",
    "    sim_cmd =[sim_path]\n",
    "elif simulator == 'gazebo':\n",
    "    # Convert to Gazebo format (name, x, y, z, roll, pitch, yaw)\n",
    "    drones = [(f\"drone{i+1}\", east, north, up, 0, 0, heading_to_yaw(heading)) for i, (east, north, up, heading) in enumerate(offsets)]\n",
    "    world_path = os.path.expanduser(gazebo_word_path)\n",
    "    updated_world_path = update_world(drones,world_path)\n",
    "    sim_cmd = [\"gazebo\", \"--verbose\", updated_world_path] \n",
    "\n",
    "simulator_process = subprocess.Popen(\n",
    "                    sim_cmd,\n",
    "                    stdout=subprocess.DEVNULL,  # Suppress standard output\n",
    "                    stderr=subprocess.DEVNULL,  # Suppress error output\n",
    "                    shell=False  # Ensure safety when passing arguments\n",
    "                    )"
   ]
  },
  {
   "cell_type": "markdown",
   "metadata": {},
   "source": [
    "## Create Plan"
   ]
  },
  {
   "cell_type": "code",
   "execution_count": 7,
   "metadata": {},
   "outputs": [],
   "source": [
    "plan=['check_prearm','check_pos_est','mode_stabilize','mode_guided','arm','takeoff','fly','land']\n",
    "uavs_arg = []\n",
    "altitude = 5\n",
    "wps1=[(0, 0,-altitude), #takeoff point\n",
    "    (-10,0, -altitude),\n",
    "    (-20, 0, -altitude),\n",
    "    (-20, -10, -altitude)]\n",
    "\n",
    "wps2=[(0, 0,-altitude), #takeoff point\n",
    "    (-10,0, -altitude),\n",
    "    (-10, -20, -altitude),\n",
    "    (-20, -20, -altitude),\n",
    "    (-20, -10, -altitude)]\n",
    "\n",
    "wps=[(0, 0,-altitude), #takeoff point\n",
    "    (-10,0, -altitude),\n",
    "    (-20, 0, -altitude),\n",
    "    (-20, -10, -altitude),\n",
    "    (-20, -20, -altitude),\n",
    "    (-10, -20, -altitude),\n",
    "    (-20, -20, -altitude),]\n",
    "\n",
    "\n",
    "for i in range(n_uavs):\n",
    "\n",
    "    uav_arg={'waypoints':wps2,\n",
    "             'plan': plan,\n",
    "             'wp_margin': 0.5}\n",
    "    uavs_arg.append(uav_arg)"
   ]
  },
  {
   "cell_type": "markdown",
   "metadata": {},
   "source": [
    "# Launch Vehicle"
   ]
  },
  {
   "cell_type": "code",
   "execution_count": 8,
   "metadata": {},
   "outputs": [],
   "source": [
    "vehicle_path = os.path.expanduser(ardupilot_vehicle_path)"
   ]
  },
  {
   "cell_type": "code",
   "execution_count": 9,
   "metadata": {},
   "outputs": [],
   "source": [
    "for i in range(n_uavs):\n",
    "    vehicle_cmd = f\"python3 {vehicle_path} -v ArduCopter -I{i} --sysid {i+1} --no-rebuild\"\n",
    "    if simulator == 'QGroundControl':\n",
    "        spawn=','.join(map(str, spawns[i]))\n",
    "        vehicle_cmd += f\" --custom-location={spawn}\"\n",
    "    elif simulator == 'gazebo':\n",
    "        vehicle_cmd += \" -f gazebo-iris\"\n",
    "    subprocess.Popen([\"gnome-terminal\", \"--\", \"bash\", \"-c\", f\"{vehicle_cmd}; exec bash\"])"
   ]
  },
  {
   "cell_type": "markdown",
   "metadata": {},
   "source": [
    "## Create UavLogic"
   ]
  },
  {
   "cell_type": "code",
   "execution_count": 10,
   "metadata": {},
   "outputs": [
    {
     "name": "stdout",
     "output_type": "stream",
     "text": [
      "vehicle 1 created\n"
     ]
    }
   ],
   "source": [
    "uavs=[]\n",
    "for i,uav_arg in enumerate(uavs_arg):\n",
    "    connection = mavutil.mavlink_connection(f'udp:127.0.0.1:{14551+10*i}')\n",
    "    connection.wait_heartbeat()\n",
    "    uav=VehicleLogic(connection,**uav_arg)\n",
    "    uavs.append(uav)"
   ]
  },
  {
   "cell_type": "markdown",
   "metadata": {},
   "source": [
    "## Execute Plan"
   ]
  },
  {
   "cell_type": "code",
   "execution_count": 11,
   "metadata": {},
   "outputs": [
    {
     "name": "stdout",
     "output_type": "stream",
     "text": [
      "vehicle 1: action land is done\n",
      "vehicle 1: action check_prearm is done\n",
      "vehicle 1: action check_pos_est is done\n",
      "vehicle 1: action mode_stabilize is done\n",
      "vehicle 1: action mode_guided is done\n",
      "vehicle 1: action arm is done\n",
      "vehicle 1: action takeoff is done\n",
      "vehicle 1: action fly is done\n",
      "vehicle 1: action land is done\n"
     ]
    }
   ],
   "source": [
    "mission_incomplete = n_uavs*[True]\n",
    "while any(mission_incomplete):\n",
    "    for i,uav in enumerate(uavs):\n",
    "        mission_incomplete[i] = uav.act_plan()"
   ]
  },
  {
   "cell_type": "markdown",
   "metadata": {},
   "source": [
    "## Kill all related process"
   ]
  },
  {
   "cell_type": "code",
   "execution_count": 12,
   "metadata": {},
   "outputs": [],
   "source": [
    "for process in [\"QGroundControl\", \"sim_vehicle.py\", \"arducopter\", \"gazebo\", \"mavproxy\"]:\n",
    "    os.system(f\"pkill -9 -f {process}\")"
   ]
  }
 ],
 "metadata": {
  "kernelspec": {
   "display_name": "pymavlink",
   "language": "python",
   "name": "python3"
  },
  "language_info": {
   "codemirror_mode": {
    "name": "ipython",
    "version": 3
   },
   "file_extension": ".py",
   "mimetype": "text/x-python",
   "name": "python",
   "nbconvert_exporter": "python",
   "pygments_lexer": "ipython3",
   "version": "3.9.21"
  }
 },
 "nbformat": 4,
 "nbformat_minor": 2
}
