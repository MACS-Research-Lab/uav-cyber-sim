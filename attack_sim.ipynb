{
 "cells": [
  {
   "cell_type": "markdown",
   "metadata": {},
   "source": [
    "## Swarm Simulation \n",
    "\n",
    "This is for testing propouses"
   ]
  },
  {
   "cell_type": "code",
   "execution_count": 1,
   "metadata": {},
   "outputs": [],
   "source": [
    "import os\n",
    "import subprocess\n",
    "from pymavlink import mavutil\n",
    "\n",
    "# Custom modules\n",
    "from vehicle_logic import VehicleLogic\n",
    "from helpers.change_coordinates import heading_to_yaw,find_spawns\n",
    "from helpers.gazebo_world import update_world"
   ]
  },
  {
   "cell_type": "markdown",
   "metadata": {},
   "source": [
    "## Kill all related process"
   ]
  },
  {
   "cell_type": "code",
   "execution_count": 2,
   "metadata": {},
   "outputs": [],
   "source": [
    "for process in [\"QGroundControl\", \"sim_vehicle.py\", \"arducopter\", \"gazebo\", \"mavproxy\"]:\n",
    "    os.system(f\"pkill -9 -f {process}\")"
   ]
  },
  {
   "cell_type": "markdown",
   "metadata": {},
   "source": [
    "## Paths"
   ]
  },
  {
   "cell_type": "code",
   "execution_count": 3,
   "metadata": {},
   "outputs": [],
   "source": [
    "QGC_path='~/QGroundControl.AppImage'\n",
    "gazebo_word_path=\"gazebo_worlds/attack_city.world\"\n",
    "ardupilot_vehicle_path='~/ardupilot/Tools/autotest/sim_vehicle.py'"
   ]
  },
  {
   "cell_type": "markdown",
   "metadata": {},
   "source": [
    "# Choose Simulator"
   ]
  },
  {
   "cell_type": "code",
   "execution_count": 4,
   "metadata": {},
   "outputs": [],
   "source": [
    "simulator ='gazebo' #'QGroundControl' # "
   ]
  },
  {
   "cell_type": "markdown",
   "metadata": {},
   "source": [
    "# Choose Initial Position"
   ]
  },
  {
   "cell_type": "code",
   "execution_count": 5,
   "metadata": {},
   "outputs": [],
   "source": [
    "offsets = [ #east, north, up, heading\n",
    "    (40, -10, 0, 0)]\n",
    "n_uavs = len(offsets)\n",
    "\n",
    "                # lat,long,alt,heading\n",
    "if simulator == 'QGroundControl':\n",
    "    home_position=(-35.3633245,149.1652241,0,90)\n",
    "    spawns=find_spawns(home_position, offsets)"
   ]
  },
  {
   "cell_type": "markdown",
   "metadata": {},
   "source": [
    "## Launch Simulator"
   ]
  },
  {
   "cell_type": "code",
   "execution_count": 6,
   "metadata": {},
   "outputs": [],
   "source": [
    "if simulator == 'QGroundControl':\n",
    "    sim_path = os.path.expanduser(QGC_path)\n",
    "    sim_cmd =[sim_path]\n",
    "elif simulator == 'gazebo':\n",
    "    # Convert to Gazebo format (name, x, y, z, roll, pitch, yaw)\n",
    "    drones = [(f\"drone{i+1}\", east, north, up, 0, 0, heading_to_yaw(heading)) for i, (east, north, up, heading) in enumerate(offsets)]\n",
    "    world_path = os.path.expanduser(gazebo_word_path)\n",
    "    updated_world_path = update_world(drones,world_path)\n",
    "    sim_cmd = [\"gazebo\", \"--verbose\", updated_world_path] \n",
    "\n",
    "simulator_process = subprocess.Popen(\n",
    "                    sim_cmd,\n",
    "                    stdout=subprocess.DEVNULL,  # Suppress standard output\n",
    "                    stderr=subprocess.DEVNULL,  # Suppress error output\n",
    "                    shell=False  # Ensure safety when passing arguments\n",
    "                    )"
   ]
  },
  {
   "cell_type": "markdown",
   "metadata": {},
   "source": [
    "## Waypoint seletion algorithm"
   ]
  },
  {
   "cell_type": "code",
   "execution_count": 7,
   "metadata": {},
   "outputs": [],
   "source": [
    "wps_2d=[(0, 0), #takeoff point\n",
    "        (0, -30),\n",
    "        (-25,0),\n",
    "        (-25, -30),\n",
    "        (-40, 0),\n",
    "        (-40, -30),\n",
    "        (-40, -14)]\n",
    "# Manhattan distance function\n",
    "def manhattan_distance(p1, p2):\n",
    "    return abs(p1[0] - p2[0]) + abs(p1[1] - p2[1])\n",
    "\n",
    "def find_best_move(current_position, target_position, possible_points):\n",
    "    x_cur, y_cur = current_position\n",
    "    x_target, y_target = target_position\n",
    "\n",
    "    # Function to check if a waypoint is in the correct quadrant\n",
    "    def in_same_quadrant(waypoint):\n",
    "        x_wp, y_wp = waypoint\n",
    "        return (\n",
    "            [(x_cur - x_target)>-1 and (x_cur - x_wp) > -1] or [(x_cur - x_target)<1 and (x_cur - x_wp) <1] and # X direction check\n",
    "            [(y_cur - y_target)>-1 and (y_cur - y_wp) > -1] or [(y_cur - y_target)<1 and (y_cur - x_wp) <1]  # Y direction check\n",
    "        )\n",
    "\n",
    "    # Filter points that share x or y with the target AND are in the correct quadrant\n",
    "    valid_moves = [\n",
    "        p for p in possible_points\n",
    "        if (abs(p[0] -x_cur)<2) or (abs(p[1]<y_cur)<2) and in_same_quadrant(p)\n",
    "    ]\n",
    "\n",
    "    if not valid_moves:\n",
    "        return None  # No valid moves available\n",
    "\n",
    "    # Find the move that gets closest to the target\n",
    "    best_move = min(valid_moves, key=lambda p: manhattan_distance(p, current_position))\n",
    "\n",
    "    return best_move\n",
    "\n",
    "def find_path(start, target, waypoints):\n",
    "    path = [start]\n",
    "    current_position = start\n",
    "\n",
    "    while current_position != target:\n",
    "        next_move = find_best_move(current_position, target, waypoints)\n",
    "        if next_move is None:\n",
    "            break  # No valid path found\n",
    "        path.append(next_move)\n",
    "        waypoints.remove(next_move)  # Remove the used waypoint\n",
    "        current_position = next_move\n",
    "\n",
    "    return path\n",
    "\n",
    "# Define start, target, and possible waypoints\n",
    "start_pos = wps_2d[0]\n",
    "target_pos = wps_2d[-1]\n",
    "possible_waypoints = wps_2d[1:]\n",
    "\n",
    "# Compute the path\n",
    "\n",
    "\n",
    "#path_2d = find_path(start_pos, target_pos, possible_waypoints)\n",
    "#path_2d\n"
   ]
  },
  {
   "cell_type": "markdown",
   "metadata": {},
   "source": [
    "## Create Plan"
   ]
  },
  {
   "cell_type": "code",
   "execution_count": 8,
   "metadata": {},
   "outputs": [
    {
     "name": "stdout",
     "output_type": "stream",
     "text": [
      "Best path [(0, 0), (-20, -10)]\n"
     ]
    },
    {
     "data": {
      "text/plain": [
       "[(0, 0), (-25, 0), (-40, 0), (-40, -14)]"
      ]
     },
     "execution_count": 8,
     "metadata": {},
     "output_type": "execute_result"
    }
   ],
   "source": [
    "plan=['check_prearm','check_pos_est','mode_stabilize','mode_guided','arm','takeoff','fly','land']\n",
    "uavs_arg = []\n",
    "altitude = 5\n",
    "path_2d= [(0, 0),(-20, -10)]#       find_path(start_pos, target_pos, possible_waypoints.copy())\n",
    "path = [(x, y, -altitude) for x, y in path_2d]\n",
    "for i in range(n_uavs):\n",
    "\n",
    "    uav_arg={'waypoints':path,\n",
    "             'plan': plan,\n",
    "             'wp_margin': 0.5}\n",
    "    uavs_arg.append(uav_arg)\n",
    "\n",
    "print(f'Best path {path_2d}')    \n",
    "find_path(start_pos, target_pos, possible_waypoints.copy())"
   ]
  },
  {
   "cell_type": "code",
   "execution_count": 9,
   "metadata": {},
   "outputs": [
    {
     "data": {
      "text/plain": [
       "[(0, -30), (-25, 0), (-25, -30), (-40, 0), (-40, -30), (-40, -14)]"
      ]
     },
     "execution_count": 9,
     "metadata": {},
     "output_type": "execute_result"
    }
   ],
   "source": [
    "possible_waypoints "
   ]
  },
  {
   "cell_type": "markdown",
   "metadata": {},
   "source": [
    "# Launch Vehicle"
   ]
  },
  {
   "cell_type": "code",
   "execution_count": 10,
   "metadata": {},
   "outputs": [],
   "source": [
    "vehicle_path = os.path.expanduser(ardupilot_vehicle_path)"
   ]
  },
  {
   "cell_type": "code",
   "execution_count": 11,
   "metadata": {},
   "outputs": [],
   "source": [
    "for i in range(n_uavs):\n",
    "    vehicle_cmd = f\"python3 {vehicle_path} -v ArduCopter -I{i} --sysid {i+1} --no-rebuild\"\n",
    "    if simulator == 'QGroundControl':\n",
    "        spawn=','.join(map(str, spawns[i]))\n",
    "        vehicle_cmd += f\" --custom-location={spawn}\"\n",
    "    elif simulator == 'gazebo':\n",
    "        vehicle_cmd += \" -f gazebo-iris\"\n",
    "    subprocess.Popen([\"gnome-terminal\", \"--\", \"bash\", \"-c\", f\"{vehicle_cmd}; exec bash\"])"
   ]
  },
  {
   "cell_type": "markdown",
   "metadata": {},
   "source": [
    "## Create UavLogic"
   ]
  },
  {
   "cell_type": "code",
   "execution_count": 12,
   "metadata": {},
   "outputs": [
    {
     "name": "stdout",
     "output_type": "stream",
     "text": [
      "vehicle 1 created\n"
     ]
    }
   ],
   "source": [
    "uavs=[]\n",
    "for i,uav_arg in enumerate(uavs_arg):\n",
    "    connection = mavutil.mavlink_connection(f'udp:127.0.0.1:{14551+10*i}')\n",
    "    connection.wait_heartbeat()\n",
    "    uav=VehicleLogic(connection,**uav_arg)\n",
    "    uavs.append(uav)"
   ]
  },
  {
   "cell_type": "markdown",
   "metadata": {},
   "source": [
    "## Execute Plan"
   ]
  },
  {
   "cell_type": "code",
   "execution_count": 13,
   "metadata": {},
   "outputs": [
    {
     "name": "stdout",
     "output_type": "stream",
     "text": [
      "vehicle 1: action land is done\n",
      "vehicle 1: action check_prearm is done\n",
      "vehicle 1: action check_pos_est is done\n",
      "vehicle 1: action mode_stabilize is done\n",
      "vehicle 1: action mode_guided is done\n",
      "vehicle 1: action arm is done\n",
      "--- waypoint 1 reached --- \n",
      "current position: (0.01,-0.02)\n",
      "next waypoint: (-25, 0)\n",
      "target position: (-40, -14)\n",
      "vehicle 1: action takeoff is done\n",
      "--- waypoint 2 reached --- \n",
      "current position: (-25.00,-20.00)\n",
      "next waypoint: (-25, -30)\n",
      "target position: (-40, -14)\n",
      "--- waypoint 3 reached --- \n",
      "current position: (-24.99,-29.83)\n",
      "next waypoint: (-40, -30)\n",
      "target position: (-40, -14)\n",
      "--- waypoint 4 reached --- \n",
      "current position: (-39.96,-30.09)\n",
      "next waypoint: (-40, -14)\n",
      "target position: (-40, -14)\n",
      "vehicle 1: action fly is done\n",
      "vehicle 1: action land is done\n"
     ]
    }
   ],
   "source": [
    "mission_incomplete = n_uavs*[True]\n",
    "current_position=start_pos\n",
    "target_reached =False\n",
    "wp=0\n",
    "while any(mission_incomplete):\n",
    "    for i,uav in enumerate(uavs):\n",
    "        mission_incomplete[i] = uav.act_plan()\n",
    "        if uav.is_reached and (not target_reached):\n",
    "            wp+=1\n",
    "            current_position = uav.get_position()[:2]\n",
    "            # GPS spoofing\n",
    "            if manhattan_distance(current_position,(-25, 0))<2:\n",
    "                current_position=(-25, -20)\n",
    "            best_move = find_best_move(current_position, target_pos, possible_waypoints)\n",
    "            possible_waypoints.remove(best_move) \n",
    "            path_2d=[current_position,best_move]\n",
    "            if best_move!=target_pos:\n",
    "                path_2d.append(target_pos)\n",
    "            else:\n",
    "                target_reached=True\n",
    "            print(f'--- waypoint {wp} reached --- ')\n",
    "            print(f'current position: ({path_2d[0][0]:.2f},{path_2d[0][1]:.2f})')\n",
    "            print(f'next waypoint: {path_2d[1]}')\n",
    "            print(f'target position: {path_2d[-1]}')\n",
    "            path = [(x, y, -altitude) for x, y in path_2d]\n",
    "            uav.update_waypoints(path)\n",
    "        "
   ]
  },
  {
   "cell_type": "markdown",
   "metadata": {},
   "source": [
    "## Kill all related process"
   ]
  },
  {
   "cell_type": "code",
   "execution_count": 14,
   "metadata": {},
   "outputs": [],
   "source": [
    "for process in [\"QGroundControl\", \"sim_vehicle.py\", \"arducopter\", \"gazebo\", \"mavproxy\"]:\n",
    "    os.system(f\"pkill -9 -f {process}\")"
   ]
  }
 ],
 "metadata": {
  "kernelspec": {
   "display_name": "pymavlink",
   "language": "python",
   "name": "python3"
  },
  "language_info": {
   "codemirror_mode": {
    "name": "ipython",
    "version": 3
   },
   "file_extension": ".py",
   "mimetype": "text/x-python",
   "name": "python",
   "nbconvert_exporter": "python",
   "pygments_lexer": "ipython3",
   "version": "3.9.21"
  }
 },
 "nbformat": 4,
 "nbformat_minor": 2
}
