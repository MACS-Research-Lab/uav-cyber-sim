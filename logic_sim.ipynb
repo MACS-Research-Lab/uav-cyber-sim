{
 "cells": [
  {
   "cell_type": "markdown",
   "metadata": {},
   "source": [
    "## Logic Rule Simulation\n",
    "\n",
    "This notebook implements a uav logic instead of a plan and decisions are done online following that logic"
   ]
  },
  {
   "cell_type": "code",
   "execution_count": 17,
   "metadata": {},
   "outputs": [],
   "source": [
    "import os\n",
    "import subprocess\n",
    "from pymavlink import mavutil\n",
    "import numpy as np\n",
    "from collections import OrderedDict\n",
    "\n",
    "# Custom modules\n",
    "from vehicle_logic import VehicleLogic\n",
    "from helpers.change_coordinates import heading_to_yaw,find_spawns,global2local\n",
    "from helpers.visualization.gazebo_world import update_world\n",
    "from helpers.math import manhattan_distance\n",
    "from helpers.navegation_logic import find_path,find_best_waypoint\n",
    "from helpers.visualization.plots import plot_3d_interactive"
   ]
  },
  {
   "cell_type": "markdown",
   "metadata": {},
   "source": [
    "## Kill all related process"
   ]
  },
  {
   "cell_type": "code",
   "execution_count": 18,
   "metadata": {},
   "outputs": [],
   "source": [
    "for process in [\"QGroundControl\", \"sim_vehicle.py\", \"arducopter\", \"gazebo\", \"mavproxy\"]:\n",
    "    os.system(f\"pkill -9 -f {process}\")"
   ]
  },
  {
   "cell_type": "markdown",
   "metadata": {},
   "source": [
    "## Paths"
   ]
  },
  {
   "cell_type": "code",
   "execution_count": 19,
   "metadata": {},
   "outputs": [],
   "source": [
    "QGC_path='~/QGroundControl.AppImage'\n",
    "gazebo_word_path=\"gazebo_worlds/attack_city.world\"\n",
    "ardupilot_vehicle_path='~/ardupilot/Tools/autotest/sim_vehicle.py'"
   ]
  },
  {
   "cell_type": "markdown",
   "metadata": {},
   "source": [
    "# Choose Simulator"
   ]
  },
  {
   "cell_type": "code",
   "execution_count": 20,
   "metadata": {},
   "outputs": [],
   "source": [
    "simulator ='gazebo' # 'QGroundControl' #"
   ]
  },
  {
   "cell_type": "markdown",
   "metadata": {},
   "source": [
    "## Gonfiguration"
   ]
  },
  {
   "cell_type": "code",
   "execution_count": 21,
   "metadata": {},
   "outputs": [
    {
     "data": {
      "application/vnd.plotly.v1+json": {
       "config": {
        "plotlyServerURL": "https://plot.ly"
       },
       "data": [
        {
         "marker": {
          "color": "orange",
          "size": 6
         },
         "mode": "markers",
         "name": "waypoints",
         "type": "scatter3d",
         "x": [
          40,
          15,
          0,
          0,
          40,
          15,
          0
         ],
         "y": [
          -10,
          -10,
          -10,
          4,
          20,
          20,
          20
         ],
         "z": [
          5,
          5,
          5,
          5,
          5,
          5,
          5
         ]
        },
        {
         "marker": {
          "color": "blue",
          "size": 6
         },
         "mode": "markers",
         "name": "homes",
         "type": "scatter3d",
         "x": [
          40,
          40
         ],
         "y": [
          -10,
          20
         ],
         "z": [
          0,
          0
         ]
        },
        {
         "marker": {
          "color": "green",
          "size": 6
         },
         "mode": "markers",
         "name": "targets",
         "type": "scatter3d",
         "x": [
          0,
          0
         ],
         "y": [
          4,
          4
         ],
         "z": [
          5,
          5
         ]
        }
       ],
       "layout": {
        "height": 600,
        "scene": {
         "xaxis": {
          "title": {
           "text": "x"
          }
         },
         "yaxis": {
          "title": {
           "text": "y"
          }
         },
         "zaxis": {
          "range": [
           0,
           10
          ],
          "title": {
           "text": "z"
          }
         }
        },
        "template": {
         "data": {
          "bar": [
           {
            "error_x": {
             "color": "#2a3f5f"
            },
            "error_y": {
             "color": "#2a3f5f"
            },
            "marker": {
             "line": {
              "color": "#E5ECF6",
              "width": 0.5
             },
             "pattern": {
              "fillmode": "overlay",
              "size": 10,
              "solidity": 0.2
             }
            },
            "type": "bar"
           }
          ],
          "barpolar": [
           {
            "marker": {
             "line": {
              "color": "#E5ECF6",
              "width": 0.5
             },
             "pattern": {
              "fillmode": "overlay",
              "size": 10,
              "solidity": 0.2
             }
            },
            "type": "barpolar"
           }
          ],
          "carpet": [
           {
            "aaxis": {
             "endlinecolor": "#2a3f5f",
             "gridcolor": "white",
             "linecolor": "white",
             "minorgridcolor": "white",
             "startlinecolor": "#2a3f5f"
            },
            "baxis": {
             "endlinecolor": "#2a3f5f",
             "gridcolor": "white",
             "linecolor": "white",
             "minorgridcolor": "white",
             "startlinecolor": "#2a3f5f"
            },
            "type": "carpet"
           }
          ],
          "choropleth": [
           {
            "colorbar": {
             "outlinewidth": 0,
             "ticks": ""
            },
            "type": "choropleth"
           }
          ],
          "contour": [
           {
            "colorbar": {
             "outlinewidth": 0,
             "ticks": ""
            },
            "colorscale": [
             [
              0,
              "#0d0887"
             ],
             [
              0.1111111111111111,
              "#46039f"
             ],
             [
              0.2222222222222222,
              "#7201a8"
             ],
             [
              0.3333333333333333,
              "#9c179e"
             ],
             [
              0.4444444444444444,
              "#bd3786"
             ],
             [
              0.5555555555555556,
              "#d8576b"
             ],
             [
              0.6666666666666666,
              "#ed7953"
             ],
             [
              0.7777777777777778,
              "#fb9f3a"
             ],
             [
              0.8888888888888888,
              "#fdca26"
             ],
             [
              1,
              "#f0f921"
             ]
            ],
            "type": "contour"
           }
          ],
          "contourcarpet": [
           {
            "colorbar": {
             "outlinewidth": 0,
             "ticks": ""
            },
            "type": "contourcarpet"
           }
          ],
          "heatmap": [
           {
            "colorbar": {
             "outlinewidth": 0,
             "ticks": ""
            },
            "colorscale": [
             [
              0,
              "#0d0887"
             ],
             [
              0.1111111111111111,
              "#46039f"
             ],
             [
              0.2222222222222222,
              "#7201a8"
             ],
             [
              0.3333333333333333,
              "#9c179e"
             ],
             [
              0.4444444444444444,
              "#bd3786"
             ],
             [
              0.5555555555555556,
              "#d8576b"
             ],
             [
              0.6666666666666666,
              "#ed7953"
             ],
             [
              0.7777777777777778,
              "#fb9f3a"
             ],
             [
              0.8888888888888888,
              "#fdca26"
             ],
             [
              1,
              "#f0f921"
             ]
            ],
            "type": "heatmap"
           }
          ],
          "histogram": [
           {
            "marker": {
             "pattern": {
              "fillmode": "overlay",
              "size": 10,
              "solidity": 0.2
             }
            },
            "type": "histogram"
           }
          ],
          "histogram2d": [
           {
            "colorbar": {
             "outlinewidth": 0,
             "ticks": ""
            },
            "colorscale": [
             [
              0,
              "#0d0887"
             ],
             [
              0.1111111111111111,
              "#46039f"
             ],
             [
              0.2222222222222222,
              "#7201a8"
             ],
             [
              0.3333333333333333,
              "#9c179e"
             ],
             [
              0.4444444444444444,
              "#bd3786"
             ],
             [
              0.5555555555555556,
              "#d8576b"
             ],
             [
              0.6666666666666666,
              "#ed7953"
             ],
             [
              0.7777777777777778,
              "#fb9f3a"
             ],
             [
              0.8888888888888888,
              "#fdca26"
             ],
             [
              1,
              "#f0f921"
             ]
            ],
            "type": "histogram2d"
           }
          ],
          "histogram2dcontour": [
           {
            "colorbar": {
             "outlinewidth": 0,
             "ticks": ""
            },
            "colorscale": [
             [
              0,
              "#0d0887"
             ],
             [
              0.1111111111111111,
              "#46039f"
             ],
             [
              0.2222222222222222,
              "#7201a8"
             ],
             [
              0.3333333333333333,
              "#9c179e"
             ],
             [
              0.4444444444444444,
              "#bd3786"
             ],
             [
              0.5555555555555556,
              "#d8576b"
             ],
             [
              0.6666666666666666,
              "#ed7953"
             ],
             [
              0.7777777777777778,
              "#fb9f3a"
             ],
             [
              0.8888888888888888,
              "#fdca26"
             ],
             [
              1,
              "#f0f921"
             ]
            ],
            "type": "histogram2dcontour"
           }
          ],
          "mesh3d": [
           {
            "colorbar": {
             "outlinewidth": 0,
             "ticks": ""
            },
            "type": "mesh3d"
           }
          ],
          "parcoords": [
           {
            "line": {
             "colorbar": {
              "outlinewidth": 0,
              "ticks": ""
             }
            },
            "type": "parcoords"
           }
          ],
          "pie": [
           {
            "automargin": true,
            "type": "pie"
           }
          ],
          "scatter": [
           {
            "fillpattern": {
             "fillmode": "overlay",
             "size": 10,
             "solidity": 0.2
            },
            "type": "scatter"
           }
          ],
          "scatter3d": [
           {
            "line": {
             "colorbar": {
              "outlinewidth": 0,
              "ticks": ""
             }
            },
            "marker": {
             "colorbar": {
              "outlinewidth": 0,
              "ticks": ""
             }
            },
            "type": "scatter3d"
           }
          ],
          "scattercarpet": [
           {
            "marker": {
             "colorbar": {
              "outlinewidth": 0,
              "ticks": ""
             }
            },
            "type": "scattercarpet"
           }
          ],
          "scattergeo": [
           {
            "marker": {
             "colorbar": {
              "outlinewidth": 0,
              "ticks": ""
             }
            },
            "type": "scattergeo"
           }
          ],
          "scattergl": [
           {
            "marker": {
             "colorbar": {
              "outlinewidth": 0,
              "ticks": ""
             }
            },
            "type": "scattergl"
           }
          ],
          "scattermap": [
           {
            "marker": {
             "colorbar": {
              "outlinewidth": 0,
              "ticks": ""
             }
            },
            "type": "scattermap"
           }
          ],
          "scattermapbox": [
           {
            "marker": {
             "colorbar": {
              "outlinewidth": 0,
              "ticks": ""
             }
            },
            "type": "scattermapbox"
           }
          ],
          "scatterpolar": [
           {
            "marker": {
             "colorbar": {
              "outlinewidth": 0,
              "ticks": ""
             }
            },
            "type": "scatterpolar"
           }
          ],
          "scatterpolargl": [
           {
            "marker": {
             "colorbar": {
              "outlinewidth": 0,
              "ticks": ""
             }
            },
            "type": "scatterpolargl"
           }
          ],
          "scatterternary": [
           {
            "marker": {
             "colorbar": {
              "outlinewidth": 0,
              "ticks": ""
             }
            },
            "type": "scatterternary"
           }
          ],
          "surface": [
           {
            "colorbar": {
             "outlinewidth": 0,
             "ticks": ""
            },
            "colorscale": [
             [
              0,
              "#0d0887"
             ],
             [
              0.1111111111111111,
              "#46039f"
             ],
             [
              0.2222222222222222,
              "#7201a8"
             ],
             [
              0.3333333333333333,
              "#9c179e"
             ],
             [
              0.4444444444444444,
              "#bd3786"
             ],
             [
              0.5555555555555556,
              "#d8576b"
             ],
             [
              0.6666666666666666,
              "#ed7953"
             ],
             [
              0.7777777777777778,
              "#fb9f3a"
             ],
             [
              0.8888888888888888,
              "#fdca26"
             ],
             [
              1,
              "#f0f921"
             ]
            ],
            "type": "surface"
           }
          ],
          "table": [
           {
            "cells": {
             "fill": {
              "color": "#EBF0F8"
             },
             "line": {
              "color": "white"
             }
            },
            "header": {
             "fill": {
              "color": "#C8D4E3"
             },
             "line": {
              "color": "white"
             }
            },
            "type": "table"
           }
          ]
         },
         "layout": {
          "annotationdefaults": {
           "arrowcolor": "#2a3f5f",
           "arrowhead": 0,
           "arrowwidth": 1
          },
          "autotypenumbers": "strict",
          "coloraxis": {
           "colorbar": {
            "outlinewidth": 0,
            "ticks": ""
           }
          },
          "colorscale": {
           "diverging": [
            [
             0,
             "#8e0152"
            ],
            [
             0.1,
             "#c51b7d"
            ],
            [
             0.2,
             "#de77ae"
            ],
            [
             0.3,
             "#f1b6da"
            ],
            [
             0.4,
             "#fde0ef"
            ],
            [
             0.5,
             "#f7f7f7"
            ],
            [
             0.6,
             "#e6f5d0"
            ],
            [
             0.7,
             "#b8e186"
            ],
            [
             0.8,
             "#7fbc41"
            ],
            [
             0.9,
             "#4d9221"
            ],
            [
             1,
             "#276419"
            ]
           ],
           "sequential": [
            [
             0,
             "#0d0887"
            ],
            [
             0.1111111111111111,
             "#46039f"
            ],
            [
             0.2222222222222222,
             "#7201a8"
            ],
            [
             0.3333333333333333,
             "#9c179e"
            ],
            [
             0.4444444444444444,
             "#bd3786"
            ],
            [
             0.5555555555555556,
             "#d8576b"
            ],
            [
             0.6666666666666666,
             "#ed7953"
            ],
            [
             0.7777777777777778,
             "#fb9f3a"
            ],
            [
             0.8888888888888888,
             "#fdca26"
            ],
            [
             1,
             "#f0f921"
            ]
           ],
           "sequentialminus": [
            [
             0,
             "#0d0887"
            ],
            [
             0.1111111111111111,
             "#46039f"
            ],
            [
             0.2222222222222222,
             "#7201a8"
            ],
            [
             0.3333333333333333,
             "#9c179e"
            ],
            [
             0.4444444444444444,
             "#bd3786"
            ],
            [
             0.5555555555555556,
             "#d8576b"
            ],
            [
             0.6666666666666666,
             "#ed7953"
            ],
            [
             0.7777777777777778,
             "#fb9f3a"
            ],
            [
             0.8888888888888888,
             "#fdca26"
            ],
            [
             1,
             "#f0f921"
            ]
           ]
          },
          "colorway": [
           "#636efa",
           "#EF553B",
           "#00cc96",
           "#ab63fa",
           "#FFA15A",
           "#19d3f3",
           "#FF6692",
           "#B6E880",
           "#FF97FF",
           "#FECB52"
          ],
          "font": {
           "color": "#2a3f5f"
          },
          "geo": {
           "bgcolor": "white",
           "lakecolor": "white",
           "landcolor": "#E5ECF6",
           "showlakes": true,
           "showland": true,
           "subunitcolor": "white"
          },
          "hoverlabel": {
           "align": "left"
          },
          "hovermode": "closest",
          "mapbox": {
           "style": "light"
          },
          "paper_bgcolor": "white",
          "plot_bgcolor": "#E5ECF6",
          "polar": {
           "angularaxis": {
            "gridcolor": "white",
            "linecolor": "white",
            "ticks": ""
           },
           "bgcolor": "#E5ECF6",
           "radialaxis": {
            "gridcolor": "white",
            "linecolor": "white",
            "ticks": ""
           }
          },
          "scene": {
           "xaxis": {
            "backgroundcolor": "#E5ECF6",
            "gridcolor": "white",
            "gridwidth": 2,
            "linecolor": "white",
            "showbackground": true,
            "ticks": "",
            "zerolinecolor": "white"
           },
           "yaxis": {
            "backgroundcolor": "#E5ECF6",
            "gridcolor": "white",
            "gridwidth": 2,
            "linecolor": "white",
            "showbackground": true,
            "ticks": "",
            "zerolinecolor": "white"
           },
           "zaxis": {
            "backgroundcolor": "#E5ECF6",
            "gridcolor": "white",
            "gridwidth": 2,
            "linecolor": "white",
            "showbackground": true,
            "ticks": "",
            "zerolinecolor": "white"
           }
          },
          "shapedefaults": {
           "line": {
            "color": "#2a3f5f"
           }
          },
          "ternary": {
           "aaxis": {
            "gridcolor": "white",
            "linecolor": "white",
            "ticks": ""
           },
           "baxis": {
            "gridcolor": "white",
            "linecolor": "white",
            "ticks": ""
           },
           "bgcolor": "#E5ECF6",
           "caxis": {
            "gridcolor": "white",
            "linecolor": "white",
            "ticks": ""
           }
          },
          "title": {
           "x": 0.05
          },
          "xaxis": {
           "automargin": true,
           "gridcolor": "white",
           "linecolor": "white",
           "ticks": "",
           "title": {
            "standoff": 15
           },
           "zerolinecolor": "white",
           "zerolinewidth": 2
          },
          "yaxis": {
           "automargin": true,
           "gridcolor": "white",
           "linecolor": "white",
           "ticks": "",
           "title": {
            "standoff": 15
           },
           "zerolinecolor": "white",
           "zerolinewidth": 2
          }
         }
        },
        "title": {
         "text": "Simulation Markers",
         "x": 0.5,
         "xanchor": "center"
        },
        "width": 800
       }
      }
     },
     "metadata": {},
     "output_type": "display_data"
    }
   ],
   "source": [
    "wps = [(40, -10, 5),\n",
    "            (15, -10, 5),\n",
    "            (0, -10, 5),\n",
    "            (0, 4, 5),\n",
    "            (40, 20, 5),\n",
    "            (15, 20, 5),\n",
    "            (0, 20, 5)]\n",
    "\n",
    "use_nav_wps=[True,False]\n",
    "wp_plans=[\n",
    "    [(40, -10,5),(0, 4,5)],\n",
    "    [(40,  20, 5),(0, 4,5)]\n",
    "    ]\n",
    "\n",
    "homes=[(*plan[0][:2],0) for plan in wp_plans]\n",
    "targets=[plan[-1] for plan in wp_plans]\n",
    "\n",
    "\n",
    "markers = {'waypoints': {'pos':wps,'color':'orange'},\n",
    "           'homes': {'pos':homes,'color':'blue'},\n",
    "           'targets':{'pos':targets,'color':'green'},\n",
    "           }\n",
    "\n",
    "\n",
    "n_uavs = len(use_nav_wps)\n",
    "headings=n_uavs*[0]\n",
    "\n",
    "offsets=[(*home,heading) for home,heading in zip(homes,headings)]\n",
    "\n",
    "\n",
    "\n",
    "\n",
    "# Interactive widget to rotate the plot\n",
    "\n",
    "plot_3d_interactive(markers,title='Simulation Markers')\n"
   ]
  },
  {
   "cell_type": "markdown",
   "metadata": {},
   "source": [
    "# Get Local positions"
   ]
  },
  {
   "cell_type": "code",
   "execution_count": 22,
   "metadata": {},
   "outputs": [],
   "source": [
    "homes_np=np.array(homes)\n",
    "targets_np=np.array([plan[-1] for plan in wp_plans])\n",
    "wps_np = np.array(wps)  # Extract keys as a list of tuples\n",
    "\n",
    "\n",
    "local_wps=global2local(wps_np, homes_np,pairwise=False)\n",
    "local_targets=global2local(targets_np, homes_np,pairwise=True)\n",
    "local_wps = np.concatenate([local_wps,local_targets[:,np.newaxis,:]],axis=1)\n",
    "local_wp_plans=[global2local(np.array(plan), home,pairwise=True) for plan,home in zip(wp_plans,homes_np)]"
   ]
  },
  {
   "cell_type": "code",
   "execution_count": 23,
   "metadata": {},
   "outputs": [],
   "source": [
    "if simulator == 'QGroundControl':\n",
    "    # lat,long,alt,heading\n",
    "    home_position=(-35.3633245,149.1652241,0,90)\n",
    "    spawns=find_spawns(home_position, offsets)"
   ]
  },
  {
   "cell_type": "markdown",
   "metadata": {},
   "source": [
    "## Waypoint seletion algorithm"
   ]
  },
  {
   "cell_type": "code",
   "execution_count": 24,
   "metadata": {},
   "outputs": [],
   "source": [
    "def in_same_orthant(current: np.ndarray, target: np.ndarray, waypoints: np.ndarray, dims=[0,1], eps=1) -> np.ndarray:\n",
    "    \"\"\"\n",
    "    Vectorized function to check if waypoints are in the same quadrant as the target w.r.t. the current position.\n",
    "\n",
    "    Parameters:\n",
    "    - current: np.ndarray of shape (3,) (current position)\n",
    "    - target: np.ndarray of shape (3,) (target position)\n",
    "    - waypoints: np.ndarray of shape (N,3) (list of waypoints)\n",
    "    - dims: list of int (dimensions to consider, default [0,1] for 2D checks)\n",
    "    - eps: float (tolerance for quadrant checks)\n",
    "\n",
    "    Returns:\n",
    "    - np.ndarray of shape (N,) (boolean array indicating which waypoints are in the same quadrant)\n",
    "    \"\"\"\n",
    "    # Extract only relevant dimensions\n",
    "    current = current[dims]\n",
    "    target = target[dims]\n",
    "    waypoints = waypoints[:, dims]\n",
    "\n",
    "    # Check if waypoints are in the same orthant\n",
    "    target_rel =  current - target\n",
    "    waypoints_rel=current - waypoints\n",
    "    return np.all(((target_rel >= -eps) & (waypoints_rel >= -eps))| ((target_rel <= eps) & (waypoints_rel <= eps)), axis=1)\n",
    "\n",
    "\n",
    "def find_path(start, target, waypoints,eps=1):\n",
    "    path = [start]\n",
    "    current = start\n",
    "    while not np.array_equal(current, target):\n",
    "        same_quadrant=in_same_orthant(current, target,waypoints,eps=eps)\n",
    "        waypoints = waypoints[same_quadrant]\n",
    "        next_waypoint,waypoints= find_best_waypoint(current, target, waypoints,eps=eps)\n",
    "        if next_waypoint is None:\n",
    "            break  # No valid path found\n",
    "        path.append(next_waypoint)\n",
    "        current = next_waypoint\n",
    "    return np.stack(path,axis=0)"
   ]
  },
  {
   "cell_type": "code",
   "execution_count": 25,
   "metadata": {},
   "outputs": [
    {
     "name": "stdout",
     "output_type": "stream",
     "text": [
      "uav-0 Best path: [[  0   0   0]\n",
      " [  0   0   5]\n",
      " [-25   0   5]\n",
      " [-40   0   5]\n",
      " [-40  14   5]]\n",
      "uav-1 Best path: [[  0   0   0]\n",
      " [  0   0   5]\n",
      " [-25   0   5]\n",
      " [-40   0   5]\n",
      " [-40 -16   5]]\n"
     ]
    }
   ],
   "source": [
    "for i in range(n_uavs):\n",
    "        print(f'uav-{i} Best path: {find_path(start=np.array([0,0,0]),target = local_targets[i], waypoints=local_wps[i])}') \n"
   ]
  },
  {
   "cell_type": "markdown",
   "metadata": {},
   "source": [
    "## Launch Simulator"
   ]
  },
  {
   "cell_type": "code",
   "execution_count": 26,
   "metadata": {},
   "outputs": [],
   "source": [
    "if simulator == 'QGroundControl':\n",
    "    sim_path = os.path.expanduser(QGC_path)\n",
    "    sim_cmd =[sim_path]\n",
    "elif simulator == 'gazebo':\n",
    "    # Convert to Gazebo format (name, x, y, z, roll, pitch, yaw)\n",
    "    drones = [(east, north, up, 0, 0, heading_to_yaw(heading)) for i, (east, north, up, heading) in enumerate(offsets)]\n",
    "    world_path = os.path.expanduser(gazebo_word_path)\n",
    "    updated_world_path = update_world(drones,markers,world_path)\n",
    "    sim_cmd = [\"gazebo\", \"--verbose\", updated_world_path] \n",
    "\n",
    "simulator_process = subprocess.Popen(\n",
    "                    sim_cmd,\n",
    "                    stdout=subprocess.DEVNULL,  # Suppress standard output\n",
    "                    stderr=subprocess.DEVNULL,  # Suppress error output\n",
    "                    shell=False  # Ensure safety when passing arguments\n",
    "                    )"
   ]
  },
  {
   "cell_type": "markdown",
   "metadata": {},
   "source": [
    "## Create Plan"
   ]
  },
  {
   "cell_type": "code",
   "execution_count": 27,
   "metadata": {},
   "outputs": [],
   "source": [
    "default_plan=['check_prearm','check_pos_est','mode_stabilize','mode_guided','arm','takeoff','fly','land']\n",
    "uavs_arg = []\n",
    "for i in range(n_uavs):\n",
    "    uav_arg={'waypoints':local_wp_plans[i],\n",
    "             'plan': default_plan,\n",
    "             'wp_margin': 0.5}\n",
    "    uavs_arg.append(uav_arg)"
   ]
  },
  {
   "cell_type": "markdown",
   "metadata": {},
   "source": [
    "# Launch Vehicle"
   ]
  },
  {
   "cell_type": "code",
   "execution_count": 28,
   "metadata": {},
   "outputs": [],
   "source": [
    "vehicle_path = os.path.expanduser(ardupilot_vehicle_path)"
   ]
  },
  {
   "cell_type": "code",
   "execution_count": 29,
   "metadata": {},
   "outputs": [],
   "source": [
    "for i in range(n_uavs):\n",
    "    vehicle_cmd = f\"python3 {vehicle_path} -v ArduCopter -I{i} --sysid {i+1} --no-rebuild\"\n",
    "    if simulator == 'QGroundControl':\n",
    "        spawn=','.join(map(str, spawns[i]))\n",
    "        vehicle_cmd += f\" --custom-location={spawn}\"\n",
    "    elif simulator == 'gazebo':\n",
    "        vehicle_cmd += \" -f gazebo-iris\"\n",
    "    subprocess.Popen([\"gnome-terminal\", \"--\", \"bash\", \"-c\", f\"{vehicle_cmd}; exec bash\"])"
   ]
  },
  {
   "cell_type": "markdown",
   "metadata": {},
   "source": [
    "## Create UavLogic"
   ]
  },
  {
   "cell_type": "code",
   "execution_count": 30,
   "metadata": {},
   "outputs": [
    {
     "name": "stdout",
     "output_type": "stream",
     "text": [
      "vehicle 1 created\n",
      "vehicle 2 created\n"
     ]
    }
   ],
   "source": [
    "uavs=[]\n",
    "for i,uav_arg in enumerate(uavs_arg):\n",
    "    connection = mavutil.mavlink_connection(f'udp:127.0.0.1:{14551+10*i}')\n",
    "    connection.wait_heartbeat()\n",
    "    uav=VehicleLogic(connection,**uav_arg)\n",
    "    uavs.append(uav)"
   ]
  },
  {
   "cell_type": "markdown",
   "metadata": {},
   "source": [
    "## Execute Plan"
   ]
  },
  {
   "cell_type": "code",
   "execution_count": 31,
   "metadata": {},
   "outputs": [
    {
     "name": "stdout",
     "output_type": "stream",
     "text": [
      "vehicle 1: action land is done\n",
      "vehicle 2: action land is done\n",
      "vehicle 1: action check_prearm is done\n",
      "vehicle 2: action check_prearm is done\n",
      "vehicle 1: action check_pos_est is done\n",
      "vehicle 1: action mode_stabilize is done\n",
      "vehicle 2: action check_pos_est is done\n",
      "vehicle 1: action mode_guided is done\n",
      "vehicle 2: action mode_stabilize is done\n",
      "vehicle 1: action arm is done\n",
      "(0.00394210871309042, 0.003672418650239706, -0.035856857895851135)\n",
      "[0 0 5]\n",
      "vehicle 2: action mode_guided is done\n",
      "(0.004064746201038361, 0.003788160625845194, -0.03589440882205963)\n",
      "[0 0 5]\n",
      "vehicle 2: action arm is done\n",
      "(0.004218020476400852, 0.003999349195510149, -0.035734280943870544)\n",
      "[0 0 5]\n",
      "(0.003184004221111536, 0.002963668666779995, -0.03592262044548988)\n",
      "[0 0 5]\n",
      "(0.003521515056490898, 0.0033642456401139498, -0.035781390964984894)\n",
      "[0 0 5]\n",
      "(0.0020152716897428036, 0.001890967134386301, -0.03594515472650528)\n",
      "[0 0 5]\n",
      "(0.002274109283462167, 0.0022087236866354942, -0.03581174463033676)\n",
      "[0 0 5]\n",
      "(0.0008757589384913445, 0.0008718832395970821, -0.0359639897942543)\n",
      "[0 0 5]\n",
      "(0.001129516283981502, 0.001148759271018207, -0.0358358658850193)\n",
      "[0 0 5]\n",
      "(-5.712019628845155e-05, 4.215215813019313e-05, -0.03596363961696625)\n",
      "[0 0 5]\n",
      "(0.00017598333943169564, 0.0002649327798280865, -0.03584364801645279)\n",
      "[0 0 5]\n",
      "(-0.0005407573189586401, -0.0003973923157900572, -0.03596940636634827)\n",
      "[0 0 5]\n",
      "(-0.000520261179190129, -0.00037878230796195567, -0.03583463281393051)\n",
      "[0 0 5]\n",
      "(-0.0007526351255364716, -0.0005889087333343923, -0.03599510341882706)\n",
      "[0 0 5]\n",
      "(-0.0009711576858535409, -0.0007968563586473465, -0.03584398701786995)\n",
      "[0 0 5]\n",
      "(-0.0008604783797636628, -0.0006841546855866909, -0.036027681082487106)\n",
      "[0 0 5]\n",
      "(-0.0009943017503246665, -0.0008477968513034284, -0.03587227314710617)\n",
      "[0 0 5]\n",
      "(-0.0009849286871030927, -0.0007860129699110985, -0.03604639321565628)\n",
      "[0 0 5]\n",
      "(-0.0009508115472272038, -0.0008474077912978828, -0.03589147329330444)\n",
      "[0 0 5]\n",
      "(-0.0009734450723044574, -0.0007573659531772137, -0.03605732321739197)\n",
      "[0 0 5]\n",
      "(-0.0009203180088661611, -0.0008499984978698194, -0.03590349107980728)\n",
      "[0 0 5]\n",
      "(-0.0009496331331320107, -0.0007079261122271419, -0.03606623038649559)\n",
      "[0 0 5]\n",
      "(-0.0009697067434899509, -0.0009034606628119946, -0.03590425103902817)\n",
      "[0 0 5]\n",
      "(-0.0010292354272678494, -0.0007614046335220337, -0.036086685955524445)\n",
      "[0 0 5]\n",
      "(-0.0008995321695692837, -0.0008300620247609913, -0.035916686058044434)\n",
      "[0 0 5]\n",
      "(-0.0011662113247439265, -0.0008695152355358005, -0.029092194512486458)\n",
      "[0 0 5]\n",
      "(-0.0009512580581940711, -0.0008484495338052511, -0.03556434065103531)\n",
      "[0 0 5]\n",
      "(-0.0006726061110384762, -0.0003569562977645546, 0.02521524392068386)\n",
      "[0 0 5]\n",
      "(-0.0008434221381321549, -0.0006814633379690349, -0.004102184437215328)\n",
      "[0 0 5]\n",
      "(0.0007147329743020236, 0.00106773991137743, 0.13802888989448547)\n",
      "[0 0 5]\n",
      "(0.00018063568859361112, 0.0003381201240699738, 0.08405060321092606)\n",
      "[0 0 5]\n",
      "(0.0023265709169209003, 0.0026484308764338493, 0.3118060231208801)\n",
      "[0 0 5]\n",
      "(0.0016481251223012805, 0.0018315579509362578, 0.22911886870861053)\n",
      "[0 0 5]\n",
      "(0.0037578486371785402, 0.004069741815328598, 0.5502626895904541)\n",
      "[0 0 5]\n",
      "(0.0031478845048695803, 0.003433051984757185, 0.4380037188529968)\n",
      "[0 0 5]\n",
      "(0.005212005227804184, 0.005321493837982416, 0.8568181395530701)\n",
      "[0 0 5]\n",
      "(0.004399602301418781, 0.004831847734749317, 0.7144652009010315)\n",
      "[0 0 5]\n",
      "(0.007224304601550102, 0.006242763251066208, 1.231040358543396)\n",
      "[0 0 5]\n",
      "(0.006079378072172403, 0.006484024226665497, 1.0607432126998901)\n",
      "[0 0 5]\n",
      "(0.008888203650712967, 0.00676019536331296, 1.6623939275741577)\n",
      "[0 0 5]\n",
      "(0.008057056926190853, 0.008262157440185547, 1.4716547727584839)\n",
      "[0 0 5]\n",
      "(0.010047255083918571, 0.007571459747850895, 2.1058473587036133)\n",
      "[0 0 5]\n",
      "(0.009575625881552696, 0.009525717236101627, 1.9138095378875732)\n",
      "[0 0 5]\n",
      "(0.010733705945312977, 0.008705336600542068, 2.5291025638580322)\n",
      "[0 0 5]\n",
      "(0.01053257379680872, 0.01023632287979126, 2.3452107906341553)\n",
      "[0 0 5]\n",
      "(0.010820535942912102, 0.009596950374543667, 2.9159719944000244)\n",
      "[0 0 5]\n",
      "(0.010901392437517643, 0.010916617698967457, 2.7447359561920166)\n",
      "[0 0 5]\n",
      "(0.010471389628946781, 0.010032176040112972, 3.2585108280181885)\n",
      "[0 0 5]\n",
      "(0.010962745174765587, 0.012712785042822361, 3.1041574478149414)\n",
      "[0 0 5]\n",
      "(0.010347041301429272, 0.009945530444383621, 3.5625851154327393)\n",
      "[0 0 5]\n",
      "(0.010849916376173496, 0.014058158732950687, 3.419473648071289)\n",
      "[0 0 5]\n",
      "(0.010829673148691654, 0.010408679954707623, 3.827544689178467)\n",
      "[0 0 5]\n",
      "(0.011185037903487682, 0.014784105122089386, 3.6953794956207275)\n",
      "[0 0 5]\n",
      "(0.011443890631198883, 0.011862387880682945, 4.055367946624756)\n",
      "[0 0 5]\n",
      "(0.011498783715069294, 0.014928804710507393, 3.933241367340088)\n",
      "[0 0 5]\n",
      "(0.011794133111834526, 0.013212830759584904, 4.247910976409912)\n",
      "[0 0 5]\n",
      "(0.012079835869371891, 0.015100651420652866, 4.136003017425537)\n",
      "[0 0 5]\n",
      "(0.011787871830165386, 0.014132548123598099, 4.405969142913818)\n",
      "[0 0 5]\n",
      "(0.012428742833435535, 0.014906086958944798, 4.304062366485596)\n",
      "[0 0 5]\n",
      "(0.01167565118521452, 0.0147775337100029, 4.530667781829834)\n",
      "[0 0 5]\n",
      "--- uav 0 rached waypoint 1 --- \n",
      "current path:[[ 1.14781102e-02  1.51397008e-02  4.61920929e+00]\n",
      " [ 0.00000000e+00  0.00000000e+00  5.00000000e+00]\n",
      " [-4.00000000e+01  1.40000000e+01  5.00000000e+00]]\n",
      "(0.012461843900382519, 0.014360932633280754, 4.438810348510742)\n",
      "[0 0 5]\n",
      "vehicle 1: action takeoff is done\n",
      "[[ 1.14781102e-02  1.51397008e-02  4.61920929e+00]\n",
      " [ 0.00000000e+00  0.00000000e+00  5.00000000e+00]\n",
      " [-4.00000000e+01  1.40000000e+01  5.00000000e+00]]\n",
      "(0.01098167710006237, 0.014779923483729362, 4.67703104019165)\n",
      "[0. 0. 5.]\n",
      "--- uav 0 rached waypoint 2 --- \n",
      "current path:[[ 1.02544101e-02  1.34807071e-02  4.74795580e+00]\n",
      " [-2.50000000e+01  0.00000000e+00  5.00000000e+00]\n",
      " [-4.00000000e+01  1.40000000e+01  5.00000000e+00]]\n",
      "(0.012189587578177452, 0.013625657185912132, 4.539519309997559)\n",
      "[0 0 5]\n",
      "--- uav 1 rached waypoint 1 --- \n",
      "current path:[[ 1.20135052e-02  1.32203260e-02  4.60411692e+00]\n",
      " [ 0.00000000e+00  0.00000000e+00  5.00000000e+00]\n",
      " [-4.00000000e+01 -1.60000000e+01  5.00000000e+00]]\n",
      "[[ 1.02544101e-02  1.34807071e-02  4.74795580e+00]\n",
      " [-2.50000000e+01  0.00000000e+00  5.00000000e+00]\n",
      " [-4.00000000e+01  1.40000000e+01  5.00000000e+00]]\n",
      "(0.007065592799335718, 0.011995200999081135, 4.839362144470215)\n",
      "[-25.   0.   5.]\n",
      "vehicle 2: action takeoff is done\n",
      "[[ 1.20135052e-02  1.32203260e-02  4.60411692e+00]\n",
      " [ 0.00000000e+00  0.00000000e+00  5.00000000e+00]\n",
      " [-4.00000000e+01 -1.60000000e+01  5.00000000e+00]]\n",
      "(0.011607985012233257, 0.012664738111197948, 4.633838653564453)\n",
      "[0. 0. 5.]\n",
      "--- uav 1 rached waypoint 2 --- \n",
      "current path:[[ 1.09798815e-02  1.19942240e-02  4.63963604e+00]\n",
      " [-2.50000000e+01  0.00000000e+00  5.00000000e+00]\n",
      " [-4.00000000e+01 -1.60000000e+01  5.00000000e+00]]\n",
      "[[ 1.02544101e-02  1.34807071e-02  4.74795580e+00]\n",
      " [-2.50000000e+01  0.00000000e+00  5.00000000e+00]\n",
      " [-4.00000000e+01  1.40000000e+01  5.00000000e+00]]\n",
      "(-0.03726259618997574, 0.010633650235831738, 4.90230655670166)\n",
      "[-25.   0.   5.]\n",
      "[[ 1.09798815e-02  1.19942240e-02  4.63963604e+00]\n",
      " [-2.50000000e+01  0.00000000e+00  5.00000000e+00]\n",
      " [-4.00000000e+01 -1.60000000e+01  5.00000000e+00]]\n",
      "(0.010121814906597137, 0.010664992965757847, 4.635899543762207)\n",
      "[-25.   0.   5.]\n",
      "[[ 1.02544101e-02  1.34807071e-02  4.74795580e+00]\n",
      " [-2.50000000e+01  0.00000000e+00  5.00000000e+00]\n",
      " [-4.00000000e+01  1.40000000e+01  5.00000000e+00]]\n",
      "(-0.20320428907871246, 0.00835283100605011, 4.931028842926025)\n",
      "[-25.   0.   5.]\n",
      "[[ 1.09798815e-02  1.19942240e-02  4.63963604e+00]\n",
      " [-2.50000000e+01  0.00000000e+00  5.00000000e+00]\n",
      " [-4.00000000e+01 -1.60000000e+01  5.00000000e+00]]\n",
      "(0.008828829042613506, 0.008681939914822578, 4.65843391418457)\n",
      "[-25.   0.   5.]\n",
      "[[ 1.02544101e-02  1.34807071e-02  4.74795580e+00]\n",
      " [-2.50000000e+01  0.00000000e+00  5.00000000e+00]\n",
      " [-4.00000000e+01  1.40000000e+01  5.00000000e+00]]\n",
      "(-0.5460708141326904, 0.0065077925100922585, 4.941009044647217)\n",
      "[-25.   0.   5.]\n",
      "[[ 1.09798815e-02  1.19942240e-02  4.63963604e+00]\n",
      " [-2.50000000e+01  0.00000000e+00  5.00000000e+00]\n",
      " [-4.00000000e+01 -1.60000000e+01  5.00000000e+00]]\n",
      "(-0.021784070879220963, 0.006963633466511965, 4.702336311340332)\n",
      "[-25.   0.   5.]\n",
      "[[ 1.02544101e-02  1.34807071e-02  4.74795580e+00]\n",
      " [-2.50000000e+01  0.00000000e+00  5.00000000e+00]\n",
      " [-4.00000000e+01  1.40000000e+01  5.00000000e+00]]\n",
      "(-1.0698362588882446, 0.0064201075583696365, 4.942159175872803)\n",
      "[-25.   0.   5.]\n",
      "[[ 1.09798815e-02  1.19942240e-02  4.63963604e+00]\n",
      " [-2.50000000e+01  0.00000000e+00  5.00000000e+00]\n",
      " [-4.00000000e+01 -1.60000000e+01  5.00000000e+00]]\n",
      "(-0.15874819457530975, 0.005814157892018557, 4.73916482925415)\n",
      "[-25.   0.   5.]\n",
      "[[ 1.02544101e-02  1.34807071e-02  4.74795580e+00]\n",
      " [-2.50000000e+01  0.00000000e+00  5.00000000e+00]\n",
      " [-4.00000000e+01  1.40000000e+01  5.00000000e+00]]\n",
      "(-1.7698912620544434, 0.005992648657411337, 4.9400410652160645)\n",
      "[-25.   0.   5.]\n",
      "[[ 1.09798815e-02  1.19942240e-02  4.63963604e+00]\n",
      " [-2.50000000e+01  0.00000000e+00  5.00000000e+00]\n",
      " [-4.00000000e+01 -1.60000000e+01  5.00000000e+00]]\n",
      "(-0.4654362201690674, 0.00562848336994648, 4.767919063568115)\n",
      "[-25.   0.   5.]\n",
      "[[ 1.02544101e-02  1.34807071e-02  4.74795580e+00]\n",
      " [-2.50000000e+01  0.00000000e+00  5.00000000e+00]\n",
      " [-4.00000000e+01  1.40000000e+01  5.00000000e+00]]\n",
      "(-2.634309768676758, 0.0033538707066327333, 4.938063144683838)\n",
      "[-25.   0.   5.]\n",
      "[[ 1.09798815e-02  1.19942240e-02  4.63963604e+00]\n",
      " [-2.50000000e+01  0.00000000e+00  5.00000000e+00]\n",
      " [-4.00000000e+01 -1.60000000e+01  5.00000000e+00]]\n",
      "(-0.9497697353363037, 0.0074431998655200005, 4.790416240692139)\n",
      "[-25.   0.   5.]\n",
      "[[ 1.02544101e-02  1.34807071e-02  4.74795580e+00]\n",
      " [-2.50000000e+01  0.00000000e+00  5.00000000e+00]\n",
      " [-4.00000000e+01  1.40000000e+01  5.00000000e+00]]\n",
      "(-3.672003984451294, -0.0019854893907904625, 4.937524795532227)\n",
      "[-25.   0.   5.]\n",
      "[[ 1.09798815e-02  1.19942240e-02  4.63963604e+00]\n",
      " [-2.50000000e+01  0.00000000e+00  5.00000000e+00]\n",
      " [-4.00000000e+01 -1.60000000e+01  5.00000000e+00]]\n",
      "(-1.610135793685913, 0.00863506831228733, 4.808717250823975)\n",
      "[-25.   0.   5.]\n",
      "[[ 1.02544101e-02  1.34807071e-02  4.74795580e+00]\n",
      " [-2.50000000e+01  0.00000000e+00  5.00000000e+00]\n",
      " [-4.00000000e+01  1.40000000e+01  5.00000000e+00]]\n",
      "(-4.870598793029785, -0.008641223423182964, 4.938621997833252)\n",
      "[-25.   0.   5.]\n",
      "[[ 1.09798815e-02  1.19942240e-02  4.63963604e+00]\n",
      " [-2.50000000e+01  0.00000000e+00  5.00000000e+00]\n",
      " [-4.00000000e+01 -1.60000000e+01  5.00000000e+00]]\n",
      "(-2.441606044769287, 0.007215446792542934, 4.824466228485107)\n",
      "[-25.   0.   5.]\n",
      "[[ 1.02544101e-02  1.34807071e-02  4.74795580e+00]\n",
      " [-2.50000000e+01  0.00000000e+00  5.00000000e+00]\n",
      " [-4.00000000e+01  1.40000000e+01  5.00000000e+00]]\n",
      "(-6.224241256713867, -0.015559433959424496, 4.9407243728637695)\n",
      "[-25.   0.   5.]\n",
      "[[ 1.09798815e-02  1.19942240e-02  4.63963604e+00]\n",
      " [-2.50000000e+01  0.00000000e+00  5.00000000e+00]\n",
      " [-4.00000000e+01 -1.60000000e+01  5.00000000e+00]]\n",
      "(-3.439572334289551, 0.0028016227297484875, 4.838715553283691)\n",
      "[-25.   0.   5.]\n",
      "[[ 1.02544101e-02  1.34807071e-02  4.74795580e+00]\n",
      " [-2.50000000e+01  0.00000000e+00  5.00000000e+00]\n",
      " [-4.00000000e+01  1.40000000e+01  5.00000000e+00]]\n",
      "(-7.723998546600342, -0.022324470803141594, 4.945896148681641)\n",
      "[-25.   0.   5.]\n",
      "[[ 1.09798815e-02  1.19942240e-02  4.63963604e+00]\n",
      " [-2.50000000e+01  0.00000000e+00  5.00000000e+00]\n",
      " [-4.00000000e+01 -1.60000000e+01  5.00000000e+00]]\n",
      "(-4.598884582519531, -0.004240767564624548, 4.852104187011719)\n",
      "[-25.   0.   5.]\n",
      "[[ 1.02544101e-02  1.34807071e-02  4.74795580e+00]\n",
      " [-2.50000000e+01  0.00000000e+00  5.00000000e+00]\n",
      " [-4.00000000e+01  1.40000000e+01  5.00000000e+00]]\n",
      "(-9.329347610473633, -0.026979593560099602, 4.96302604675293)\n",
      "[-25.   0.   5.]\n",
      "[[ 1.09798815e-02  1.19942240e-02  4.63963604e+00]\n",
      " [-2.50000000e+01  0.00000000e+00  5.00000000e+00]\n",
      " [-4.00000000e+01 -1.60000000e+01  5.00000000e+00]]\n",
      "(-5.915483474731445, -0.0122986426576972, 4.865397930145264)\n",
      "[-25.   0.   5.]\n",
      "[[ 1.02544101e-02  1.34807071e-02  4.74795580e+00]\n",
      " [-2.50000000e+01  0.00000000e+00  5.00000000e+00]\n",
      " [-4.00000000e+01  1.40000000e+01  5.00000000e+00]]\n",
      "(-10.929746627807617, -0.025500256568193436, 4.990273475646973)\n",
      "[-25.   0.   5.]\n",
      "[[ 1.09798815e-02  1.19942240e-02  4.63963604e+00]\n",
      " [-2.50000000e+01  0.00000000e+00  5.00000000e+00]\n",
      " [-4.00000000e+01 -1.60000000e+01  5.00000000e+00]]\n",
      "(-7.389671325683594, -0.020387882366776466, 4.8797125816345215)\n",
      "[-25.   0.   5.]\n",
      "[[ 1.02544101e-02  1.34807071e-02  4.74795580e+00]\n",
      " [-2.50000000e+01  0.00000000e+00  5.00000000e+00]\n",
      " [-4.00000000e+01  1.40000000e+01  5.00000000e+00]]\n",
      "(-12.487881660461426, -0.018317563459277153, 5.015851974487305)\n",
      "[-25.   0.   5.]\n",
      "[[ 1.09798815e-02  1.19942240e-02  4.63963604e+00]\n",
      " [-2.50000000e+01  0.00000000e+00  5.00000000e+00]\n",
      " [-4.00000000e+01 -1.60000000e+01  5.00000000e+00]]\n",
      "(-8.970107078552246, -0.027499837800860405, 4.903127193450928)\n",
      "[-25.   0.   5.]\n",
      "[[ 1.02544101e-02  1.34807071e-02  4.74795580e+00]\n",
      " [-2.50000000e+01  0.00000000e+00  5.00000000e+00]\n",
      " [-4.00000000e+01  1.40000000e+01  5.00000000e+00]]\n",
      "(-13.962652206420898, -0.008494599722325802, 5.0316619873046875)\n",
      "[-25.   0.   5.]\n",
      "[[ 1.09798815e-02  1.19942240e-02  4.63963604e+00]\n",
      " [-2.50000000e+01  0.00000000e+00  5.00000000e+00]\n",
      " [-4.00000000e+01 -1.60000000e+01  5.00000000e+00]]\n",
      "(-10.578763961791992, -0.028735285624861717, 4.937633991241455)\n",
      "[-25.   0.   5.]\n",
      "[[ 1.02544101e-02  1.34807071e-02  4.74795580e+00]\n",
      " [-2.50000000e+01  0.00000000e+00  5.00000000e+00]\n",
      " [-4.00000000e+01  1.40000000e+01  5.00000000e+00]]\n",
      "(-15.344958305358887, 0.0038106704596430063, 5.036708831787109)\n",
      "[-25.   0.   5.]\n",
      "[[ 1.09798815e-02  1.19942240e-02  4.63963604e+00]\n",
      " [-2.50000000e+01  0.00000000e+00  5.00000000e+00]\n",
      " [-4.00000000e+01 -1.60000000e+01  5.00000000e+00]]\n",
      "(-12.148431777954102, -0.02375556156039238, 4.973018646240234)\n",
      "[-25.   0.   5.]\n",
      "[[ 1.02544101e-02  1.34807071e-02  4.74795580e+00]\n",
      " [-2.50000000e+01  0.00000000e+00  5.00000000e+00]\n",
      " [-4.00000000e+01  1.40000000e+01  5.00000000e+00]]\n",
      "(-16.629810333251953, 0.019053254276514053, 5.032833576202393)\n",
      "[-25.   0.   5.]\n",
      "[[ 1.09798815e-02  1.19942240e-02  4.63963604e+00]\n",
      " [-2.50000000e+01  0.00000000e+00  5.00000000e+00]\n",
      " [-4.00000000e+01 -1.60000000e+01  5.00000000e+00]]\n",
      "(-13.644888877868652, -0.014897090382874012, 4.99958610534668)\n",
      "[-25.   0.   5.]\n",
      "[[ 1.02544101e-02  1.34807071e-02  4.74795580e+00]\n",
      " [-2.50000000e+01  0.00000000e+00  5.00000000e+00]\n",
      " [-4.00000000e+01  1.40000000e+01  5.00000000e+00]]\n",
      "(-17.818099975585938, 0.03434780240058899, 5.0225653648376465)\n",
      "[-25.   0.   5.]\n",
      "[[ 1.09798815e-02  1.19942240e-02  4.63963604e+00]\n",
      " [-2.50000000e+01  0.00000000e+00  5.00000000e+00]\n",
      " [-4.00000000e+01 -1.60000000e+01  5.00000000e+00]]\n",
      "(-15.05087947845459, -0.0025926230009645224, 5.014420032501221)\n",
      "[-25.   0.   5.]\n",
      "[[ 1.02544101e-02  1.34807071e-02  4.74795580e+00]\n",
      " [-2.50000000e+01  0.00000000e+00  5.00000000e+00]\n",
      " [-4.00000000e+01  1.40000000e+01  5.00000000e+00]]\n",
      "(-18.914405822753906, 0.04704732447862625, 5.004244804382324)\n",
      "[-25.   0.   5.]\n",
      "[[ 1.09798815e-02  1.19942240e-02  4.63963604e+00]\n",
      " [-2.50000000e+01  0.00000000e+00  5.00000000e+00]\n",
      " [-4.00000000e+01 -1.60000000e+01  5.00000000e+00]]\n",
      "(-16.36078643798828, 0.014276822097599506, 5.018399238586426)\n",
      "[-25.   0.   5.]\n",
      "[[ 1.02544101e-02  1.34807071e-02  4.74795580e+00]\n",
      " [-2.50000000e+01  0.00000000e+00  5.00000000e+00]\n",
      " [-4.00000000e+01  1.40000000e+01  5.00000000e+00]]\n",
      "(-19.921831130981445, 0.05598840489983559, 4.9865288734436035)\n",
      "[-25.   0.   5.]\n",
      "[[ 1.09798815e-02  1.19942240e-02  4.63963604e+00]\n",
      " [-2.50000000e+01  0.00000000e+00  5.00000000e+00]\n",
      " [-4.00000000e+01 -1.60000000e+01  5.00000000e+00]]\n",
      "(-17.57299041748047, 0.03159807622432709, 5.015192031860352)\n",
      "[-25.   0.   5.]\n",
      "[[ 1.02544101e-02  1.34807071e-02  4.74795580e+00]\n",
      " [-2.50000000e+01  0.00000000e+00  5.00000000e+00]\n",
      " [-4.00000000e+01  1.40000000e+01  5.00000000e+00]]\n",
      "(-20.843521118164062, 0.0609830766916275, 4.97426700592041)\n",
      "[-25.   0.   5.]\n",
      "[[ 1.09798815e-02  1.19942240e-02  4.63963604e+00]\n",
      " [-2.50000000e+01  0.00000000e+00  5.00000000e+00]\n",
      " [-4.00000000e+01 -1.60000000e+01  5.00000000e+00]]\n",
      "(-18.690404891967773, 0.04725802317261696, 5.008097171783447)\n",
      "[-25.   0.   5.]\n",
      "[[ 1.02544101e-02  1.34807071e-02  4.74795580e+00]\n",
      " [-2.50000000e+01  0.00000000e+00  5.00000000e+00]\n",
      " [-4.00000000e+01  1.40000000e+01  5.00000000e+00]]\n",
      "(-21.67478370666504, 0.06132466718554497, 4.968027591705322)\n",
      "[-25.   0.   5.]\n",
      "[[ 1.09798815e-02  1.19942240e-02  4.63963604e+00]\n",
      " [-2.50000000e+01  0.00000000e+00  5.00000000e+00]\n",
      " [-4.00000000e+01 -1.60000000e+01  5.00000000e+00]]\n",
      "(-19.71656036376953, 0.05874982476234436, 4.998785972595215)\n",
      "[-25.   0.   5.]\n",
      "[[ 1.02544101e-02  1.34807071e-02  4.74795580e+00]\n",
      " [-2.50000000e+01  0.00000000e+00  5.00000000e+00]\n",
      " [-4.00000000e+01  1.40000000e+01  5.00000000e+00]]\n",
      "(-22.428630828857422, 0.05691351369023323, 4.966104984283447)\n",
      "[-25.   0.   5.]\n",
      "[[ 1.09798815e-02  1.19942240e-02  4.63963604e+00]\n",
      " [-2.50000000e+01  0.00000000e+00  5.00000000e+00]\n",
      " [-4.00000000e+01 -1.60000000e+01  5.00000000e+00]]\n",
      "(-20.656557083129883, 0.06650573760271072, 4.985584735870361)\n",
      "[-25.   0.   5.]\n",
      "[[ 1.02544101e-02  1.34807071e-02  4.74795580e+00]\n",
      " [-2.50000000e+01  0.00000000e+00  5.00000000e+00]\n",
      " [-4.00000000e+01  1.40000000e+01  5.00000000e+00]]\n",
      "(-23.097270965576172, 0.04851078242063522, 4.9675493240356445)\n",
      "[-25.   0.   5.]\n",
      "[[ 1.09798815e-02  1.19942240e-02  4.63963604e+00]\n",
      " [-2.50000000e+01  0.00000000e+00  5.00000000e+00]\n",
      " [-4.00000000e+01 -1.60000000e+01  5.00000000e+00]]\n",
      "(-21.51154136657715, 0.06791958957910538, 4.974686145782471)\n",
      "[-25.   0.   5.]\n",
      "[[ 1.02544101e-02  1.34807071e-02  4.74795580e+00]\n",
      " [-2.50000000e+01  0.00000000e+00  5.00000000e+00]\n",
      " [-4.00000000e+01  1.40000000e+01  5.00000000e+00]]\n",
      "(-23.675596237182617, 0.0378960445523262, 4.970738887786865)\n",
      "[-25.   0.   5.]\n",
      "[[ 1.09798815e-02  1.19942240e-02  4.63963604e+00]\n",
      " [-2.50000000e+01  0.00000000e+00  5.00000000e+00]\n",
      " [-4.00000000e+01 -1.60000000e+01  5.00000000e+00]]\n",
      "(-22.282291412353516, 0.06414619833230972, 4.968404769897461)\n",
      "[-25.   0.   5.]\n",
      "[[ 1.02544101e-02  1.34807071e-02  4.74795580e+00]\n",
      " [-2.50000000e+01  0.00000000e+00  5.00000000e+00]\n",
      " [-4.00000000e+01  1.40000000e+01  5.00000000e+00]]\n",
      "(-24.155515670776367, 0.026483485475182533, 4.973525524139404)\n",
      "[-25.   0.   5.]\n",
      "[[ 1.09798815e-02  1.19942240e-02  4.63963604e+00]\n",
      " [-2.50000000e+01  0.00000000e+00  5.00000000e+00]\n",
      " [-4.00000000e+01 -1.60000000e+01  5.00000000e+00]]\n",
      "(-22.967920303344727, 0.056979745626449585, 4.966001510620117)\n",
      "[-25.   0.   5.]\n",
      "[[ 1.02544101e-02  1.34807071e-02  4.74795580e+00]\n",
      " [-2.50000000e+01  0.00000000e+00  5.00000000e+00]\n",
      " [-4.00000000e+01  1.40000000e+01  5.00000000e+00]]\n",
      "(-24.528263092041016, 0.014214891009032726, 4.975762367248535)\n",
      "[-25.   0.   5.]\n",
      "--- uav 0 rached waypoint 3 --- \n",
      "current path:[[-2.47981911e+01  2.64054490e-03  4.97762680e+00]\n",
      " [-4.00000000e+01  0.00000000e+00  5.00000000e+00]\n",
      " [-4.00000000e+01  1.40000000e+01  5.00000000e+00]]\n",
      "[[ 1.09798815e-02  1.19942240e-02  4.63963604e+00]\n",
      " [-2.50000000e+01  0.00000000e+00  5.00000000e+00]\n",
      " [-4.00000000e+01 -1.60000000e+01  5.00000000e+00]]\n",
      "(-23.5637264251709, 0.04850735515356064, 4.96610164642334)\n",
      "[-25.   0.   5.]\n",
      "[[-2.47981911e+01  2.64054490e-03  4.97762680e+00]\n",
      " [-4.00000000e+01  0.00000000e+00  5.00000000e+00]\n",
      " [-4.00000000e+01  1.40000000e+01  5.00000000e+00]]\n",
      "(-24.97596549987793, -0.006700456142425537, 4.978981018066406)\n",
      "[-40.   0.   5.]\n",
      "[[ 1.09798815e-02  1.19942240e-02  4.63963604e+00]\n",
      " [-2.50000000e+01  0.00000000e+00  5.00000000e+00]\n",
      " [-4.00000000e+01 -1.60000000e+01  5.00000000e+00]]\n",
      "(-24.064605712890625, 0.03804519772529602, 4.968023777008057)\n",
      "[-25.   0.   5.]\n",
      "[[-2.47981911e+01  2.64054490e-03  4.97762680e+00]\n",
      " [-4.00000000e+01  0.00000000e+00  5.00000000e+00]\n",
      " [-4.00000000e+01  1.40000000e+01  5.00000000e+00]]\n",
      "(-25.111968994140625, -0.013534367084503174, 4.9794464111328125)\n",
      "[-40.   0.   5.]\n",
      "[[ 1.09798815e-02  1.19942240e-02  4.63963604e+00]\n",
      " [-2.50000000e+01  0.00000000e+00  5.00000000e+00]\n",
      " [-4.00000000e+01 -1.60000000e+01  5.00000000e+00]]\n",
      "(-24.45709800720215, 0.02619081363081932, 4.970486164093018)\n",
      "[-25.   0.   5.]\n",
      "[[-2.47981911e+01  2.64054490e-03  4.97762680e+00]\n",
      " [-4.00000000e+01  0.00000000e+00  5.00000000e+00]\n",
      " [-4.00000000e+01  1.40000000e+01  5.00000000e+00]]\n",
      "(-25.291683197021484, -0.019020944833755493, 4.978301048278809)\n",
      "[-40.   0.   5.]\n",
      "[[ 1.09798815e-02  1.19942240e-02  4.63963604e+00]\n",
      " [-2.50000000e+01  0.00000000e+00  5.00000000e+00]\n",
      " [-4.00000000e+01 -1.60000000e+01  5.00000000e+00]]\n",
      "(-24.743793487548828, 0.01442564744502306, 4.973032474517822)\n",
      "[-25.   0.   5.]\n",
      "--- uav 1 rached waypoint 3 --- \n",
      "current path:[[-2.49359112e+01  4.62402496e-03  4.97533607e+00]\n",
      " [-4.00000000e+01  0.00000000e+00  5.00000000e+00]\n",
      " [-4.00000000e+01 -1.60000000e+01  5.00000000e+00]]\n",
      "[[-2.47981911e+01  2.64054490e-03  4.97762680e+00]\n",
      " [-4.00000000e+01  0.00000000e+00  5.00000000e+00]\n",
      " [-4.00000000e+01  1.40000000e+01  5.00000000e+00]]\n",
      "(-25.602535247802734, -0.025036456063389778, 4.974668025970459)\n",
      "[-40.   0.   5.]\n",
      "[[-2.49359112e+01  4.62402496e-03  4.97533607e+00]\n",
      " [-4.00000000e+01  0.00000000e+00  5.00000000e+00]\n",
      " [-4.00000000e+01 -1.60000000e+01  5.00000000e+00]]\n",
      "(-25.051151275634766, -0.0029189065098762512, 4.97719144821167)\n",
      "[-40.   0.   5.]\n",
      "[[-2.47981911e+01  2.64054490e-03  4.97762680e+00]\n",
      " [-4.00000000e+01  0.00000000e+00  5.00000000e+00]\n",
      " [-4.00000000e+01  1.40000000e+01  5.00000000e+00]]\n",
      "(-26.097789764404297, -0.034403227269649506, 4.970048427581787)\n",
      "[-40.   0.   5.]\n",
      "[[-2.49359112e+01  4.62402496e-03  4.97533607e+00]\n",
      " [-4.00000000e+01  0.00000000e+00  5.00000000e+00]\n",
      " [-4.00000000e+01 -1.60000000e+01  5.00000000e+00]]\n",
      "(-25.10887336730957, -0.008740879595279694, 4.978348255157471)\n",
      "[-40.   0.   5.]\n",
      "[[-2.47981911e+01  2.64054490e-03  4.97762680e+00]\n",
      " [-4.00000000e+01  0.00000000e+00  5.00000000e+00]\n",
      " [-4.00000000e+01  1.40000000e+01  5.00000000e+00]]\n",
      "(-26.778852462768555, -0.04876546561717987, 4.966631889343262)\n",
      "[-40.   0.   5.]\n",
      "[[-2.49359112e+01  4.62402496e-03  4.97533607e+00]\n",
      " [-4.00000000e+01  0.00000000e+00  5.00000000e+00]\n",
      " [-4.00000000e+01 -1.60000000e+01  5.00000000e+00]]\n",
      "(-25.150009155273438, -0.01354341022670269, 4.979114532470703)\n",
      "[-40.   0.   5.]\n",
      "[[-2.47981911e+01  2.64054490e-03  4.97762680e+00]\n",
      " [-4.00000000e+01  0.00000000e+00  5.00000000e+00]\n",
      " [-4.00000000e+01  1.40000000e+01  5.00000000e+00]]\n",
      "(-27.640274047851562, -0.06644026190042496, 4.965115070343018)\n",
      "[-40.   0.   5.]\n",
      "[[-2.49359112e+01  4.62402496e-03  4.97533607e+00]\n",
      " [-4.00000000e+01  0.00000000e+00  5.00000000e+00]\n",
      " [-4.00000000e+01 -1.60000000e+01  5.00000000e+00]]\n",
      "(-25.25237464904785, -0.01878710649907589, 4.978592395782471)\n",
      "[-40.   0.   5.]\n",
      "[[-2.47981911e+01  2.64054490e-03  4.97762680e+00]\n",
      " [-4.00000000e+01  0.00000000e+00  5.00000000e+00]\n",
      " [-4.00000000e+01  1.40000000e+01  5.00000000e+00]]\n",
      "(-28.67326545715332, -0.08645685017108917, 4.964912414550781)\n",
      "[-40.   0.   5.]\n",
      "[[-2.49359112e+01  4.62402496e-03  4.97533607e+00]\n",
      " [-4.00000000e+01  0.00000000e+00  5.00000000e+00]\n",
      " [-4.00000000e+01 -1.60000000e+01  5.00000000e+00]]\n",
      "(-25.499849319458008, -0.02576402574777603, 4.976253986358643)\n",
      "[-40.   0.   5.]\n",
      "[[-2.47981911e+01  2.64054490e-03  4.97762680e+00]\n",
      " [-4.00000000e+01  0.00000000e+00  5.00000000e+00]\n",
      " [-4.00000000e+01  1.40000000e+01  5.00000000e+00]]\n",
      "(-29.84559440612793, -0.10809502750635147, 4.969387054443359)\n",
      "[-40.   0.   5.]\n",
      "[[-2.49359112e+01  4.62402496e-03  4.97533607e+00]\n",
      " [-4.00000000e+01  0.00000000e+00  5.00000000e+00]\n",
      " [-4.00000000e+01 -1.60000000e+01  5.00000000e+00]]\n",
      "(-25.93488121032715, -0.035250551998615265, 4.974116802215576)\n",
      "[-40.   0.   5.]\n",
      "[[-2.47981911e+01  2.64054490e-03  4.97762680e+00]\n",
      " [-4.00000000e+01  0.00000000e+00  5.00000000e+00]\n",
      " [-4.00000000e+01  1.40000000e+01  5.00000000e+00]]\n",
      "(-31.10325050354004, -0.12952443957328796, 4.983717441558838)\n",
      "[-40.   0.   5.]\n",
      "[[-2.49359112e+01  4.62402496e-03  4.97533607e+00]\n",
      " [-4.00000000e+01  0.00000000e+00  5.00000000e+00]\n",
      " [-4.00000000e+01 -1.60000000e+01  5.00000000e+00]]\n",
      "(-26.554025650024414, -0.0482376329600811, 4.972756862640381)\n",
      "[-40.   0.   5.]\n",
      "[[-2.47981911e+01  2.64054490e-03  4.97762680e+00]\n",
      " [-4.00000000e+01  0.00000000e+00  5.00000000e+00]\n",
      " [-4.00000000e+01  1.40000000e+01  5.00000000e+00]]\n",
      "(-32.35129928588867, -0.14365451037883759, 5.001945495605469)\n",
      "[-40.   0.   5.]\n",
      "[[-2.49359112e+01  4.62402496e-03  4.97533607e+00]\n",
      " [-4.00000000e+01  0.00000000e+00  5.00000000e+00]\n",
      " [-4.00000000e+01 -1.60000000e+01  5.00000000e+00]]\n",
      "(-27.348297119140625, -0.067467600107193, 4.97151517868042)\n",
      "[-40.   0.   5.]\n",
      "[[-2.47981911e+01  2.64054490e-03  4.97762680e+00]\n",
      " [-4.00000000e+01  0.00000000e+00  5.00000000e+00]\n",
      " [-4.00000000e+01  1.40000000e+01  5.00000000e+00]]\n",
      "(-33.539649963378906, -0.14816564321517944, 5.015672206878662)\n",
      "[-40.   0.   5.]\n",
      "[[-2.49359112e+01  4.62402496e-03  4.97533607e+00]\n",
      " [-4.00000000e+01  0.00000000e+00  5.00000000e+00]\n",
      " [-4.00000000e+01 -1.60000000e+01  5.00000000e+00]]\n",
      "(-28.31121826171875, -0.09005022048950195, 4.970986366271973)\n",
      "[-40.   0.   5.]\n",
      "[[-2.47981911e+01  2.64054490e-03  4.97762680e+00]\n",
      " [-4.00000000e+01  0.00000000e+00  5.00000000e+00]\n",
      " [-4.00000000e+01  1.40000000e+01  5.00000000e+00]]\n",
      "(-34.64399337768555, -0.14424540102481842, 5.021246433258057)\n",
      "[-40.   0.   5.]\n",
      "[[-2.49359112e+01  4.62402496e-03  4.97533607e+00]\n",
      " [-4.00000000e+01  0.00000000e+00  5.00000000e+00]\n",
      " [-4.00000000e+01 -1.60000000e+01  5.00000000e+00]]\n",
      "(-29.43143081665039, -0.11321297287940979, 4.972208499908447)\n",
      "[-40.   0.   5.]\n",
      "[[-2.47981911e+01  2.64054490e-03  4.97762680e+00]\n",
      " [-4.00000000e+01  0.00000000e+00  5.00000000e+00]\n",
      " [-4.00000000e+01  1.40000000e+01  5.00000000e+00]]\n",
      "(-35.65167236328125, -0.1337360143661499, 5.020631313323975)\n",
      "[-40.   0.   5.]\n",
      "[[-2.49359112e+01  4.62402496e-03  4.97533607e+00]\n",
      " [-4.00000000e+01  0.00000000e+00  5.00000000e+00]\n",
      " [-4.00000000e+01 -1.60000000e+01  5.00000000e+00]]\n",
      "(-30.658849716186523, -0.1332036405801773, 4.981889247894287)\n",
      "[-40.   0.   5.]\n",
      "[[-2.47981911e+01  2.64054490e-03  4.97762680e+00]\n",
      " [-4.00000000e+01  0.00000000e+00  5.00000000e+00]\n",
      " [-4.00000000e+01  1.40000000e+01  5.00000000e+00]]\n",
      "(-36.5625, -0.1172260120511055, 5.01564884185791)\n",
      "[-40.   0.   5.]\n",
      "[[-2.49359112e+01  4.62402496e-03  4.97533607e+00]\n",
      " [-4.00000000e+01  0.00000000e+00  5.00000000e+00]\n",
      " [-4.00000000e+01 -1.60000000e+01  5.00000000e+00]]\n",
      "(-31.921478271484375, -0.15063659846782684, 4.998929977416992)\n",
      "[-40.   0.   5.]\n",
      "[[-2.47981911e+01  2.64054490e-03  4.97762680e+00]\n",
      " [-4.00000000e+01  0.00000000e+00  5.00000000e+00]\n",
      " [-4.00000000e+01  1.40000000e+01  5.00000000e+00]]\n",
      "(-37.362064361572266, -0.09645043313503265, 5.008249282836914)\n",
      "[-40.   0.   5.]\n",
      "[[-2.49359112e+01  4.62402496e-03  4.97533607e+00]\n",
      " [-4.00000000e+01  0.00000000e+00  5.00000000e+00]\n",
      " [-4.00000000e+01 -1.60000000e+01  5.00000000e+00]]\n",
      "(-33.11569595336914, -0.15548022091388702, 5.014028549194336)\n",
      "[-40.   0.   5.]\n",
      "[[-2.47981911e+01  2.64054490e-03  4.97762680e+00]\n",
      " [-4.00000000e+01  0.00000000e+00  5.00000000e+00]\n",
      " [-4.00000000e+01  1.40000000e+01  5.00000000e+00]]\n",
      "(-38.055877685546875, -0.07573702186346054, 5.001308917999268)\n",
      "[-40.   0.   5.]\n",
      "[[-2.49359112e+01  4.62402496e-03  4.97533607e+00]\n",
      " [-4.00000000e+01  0.00000000e+00  5.00000000e+00]\n",
      " [-4.00000000e+01 -1.60000000e+01  5.00000000e+00]]\n",
      "(-34.244163513183594, -0.15150471031665802, 5.022955894470215)\n",
      "[-40.   0.   5.]\n",
      "[[-2.47981911e+01  2.64054490e-03  4.97762680e+00]\n",
      " [-4.00000000e+01  0.00000000e+00  5.00000000e+00]\n",
      " [-4.00000000e+01  1.40000000e+01  5.00000000e+00]]\n",
      "(-38.648162841796875, -0.057297974824905396, 4.995689392089844)\n",
      "[-40.   0.   5.]\n",
      "[[-2.49359112e+01  4.62402496e-03  4.97533607e+00]\n",
      " [-4.00000000e+01  0.00000000e+00  5.00000000e+00]\n",
      " [-4.00000000e+01 -1.60000000e+01  5.00000000e+00]]\n",
      "(-35.27997970581055, -0.13925914466381073, 5.024900913238525)\n",
      "[-40.   0.   5.]\n",
      "[[-2.47981911e+01  2.64054490e-03  4.97762680e+00]\n",
      " [-4.00000000e+01  0.00000000e+00  5.00000000e+00]\n",
      " [-4.00000000e+01  1.40000000e+01  5.00000000e+00]]\n",
      "(-39.136199951171875, -0.040821485221385956, 4.992081165313721)\n",
      "[-40.   0.   5.]\n",
      "[[-2.49359112e+01  4.62402496e-03  4.97533607e+00]\n",
      " [-4.00000000e+01  0.00000000e+00  5.00000000e+00]\n",
      " [-4.00000000e+01 -1.60000000e+01  5.00000000e+00]]\n",
      "(-36.21810531616211, -0.12290274351835251, 5.021393775939941)\n",
      "[-40.   0.   5.]\n",
      "[[-2.47981911e+01  2.64054490e-03  4.97762680e+00]\n",
      " [-4.00000000e+01  0.00000000e+00  5.00000000e+00]\n",
      " [-4.00000000e+01  1.40000000e+01  5.00000000e+00]]\n",
      "(-39.515830993652344, -0.027308378368616104, 4.990014553070068)\n",
      "[-40.   0.   5.]\n",
      "--- uav 0 rached waypoint 4 --- \n",
      "current path:[[-3.97890053e+01 -1.67092457e-02  4.98916531e+00]\n",
      " [-4.00000000e+01  1.40000000e+01  5.00000000e+00]]\n",
      "[[-2.49359112e+01  4.62402496e-03  4.97533607e+00]\n",
      " [-4.00000000e+01  0.00000000e+00  5.00000000e+00]\n",
      " [-4.00000000e+01 -1.60000000e+01  5.00000000e+00]]\n",
      "(-37.053367614746094, -0.10208304971456528, 5.01490592956543)\n",
      "[-40.   0.   5.]\n",
      "[[-3.97890053e+01 -1.67092457e-02  4.98916531e+00]\n",
      " [-4.00000000e+01  1.40000000e+01  5.00000000e+00]]\n",
      "(-39.96794509887695, -0.006038614083081484, 4.989506244659424)\n",
      "[-40.  14.   5.]\n",
      "[[-2.49359112e+01  4.62402496e-03  4.97533607e+00]\n",
      " [-4.00000000e+01  0.00000000e+00  5.00000000e+00]\n",
      " [-4.00000000e+01 -1.60000000e+01  5.00000000e+00]]\n",
      "(-37.78550338745117, -0.07945575565099716, 5.007620811462402)\n",
      "[-40.   0.   5.]\n",
      "[[-3.97890053e+01 -1.67092457e-02  4.98916531e+00]\n",
      " [-4.00000000e+01  1.40000000e+01  5.00000000e+00]]\n",
      "(-40.0710334777832, 0.04483567178249359, 4.989945411682129)\n",
      "[-40.  14.   5.]\n",
      "[[-2.49359112e+01  4.62402496e-03  4.97533607e+00]\n",
      " [-4.00000000e+01  0.00000000e+00  5.00000000e+00]\n",
      " [-4.00000000e+01 -1.60000000e+01  5.00000000e+00]]\n",
      "(-38.41584777832031, -0.05780657380819321, 5.001389026641846)\n",
      "[-40.   0.   5.]\n",
      "[[-3.97890053e+01 -1.67092457e-02  4.98916531e+00]\n",
      " [-4.00000000e+01  1.40000000e+01  5.00000000e+00]]\n",
      "(-40.12853240966797, 0.2103857845067978, 4.989470958709717)\n",
      "[-40.  14.   5.]\n",
      "[[-2.49359112e+01  4.62402496e-03  4.97533607e+00]\n",
      " [-4.00000000e+01  0.00000000e+00  5.00000000e+00]\n",
      " [-4.00000000e+01 -1.60000000e+01  5.00000000e+00]]\n",
      "(-38.947418212890625, -0.04017532616853714, 4.996382236480713)\n",
      "[-40.   0.   5.]\n",
      "[[-3.97890053e+01 -1.67092457e-02  4.98916531e+00]\n",
      " [-4.00000000e+01  1.40000000e+01  5.00000000e+00]]\n",
      "(-40.17166519165039, 0.5422365069389343, 4.988042831420898)\n",
      "[-40.  14.   5.]\n",
      "[[-2.49359112e+01  4.62402496e-03  4.97533607e+00]\n",
      " [-4.00000000e+01  0.00000000e+00  5.00000000e+00]\n",
      " [-4.00000000e+01 -1.60000000e+01  5.00000000e+00]]\n",
      "(-39.37276077270508, -0.02550540119409561, 4.9932098388671875)\n",
      "[-40.   0.   5.]\n",
      "[[-3.97890053e+01 -1.67092457e-02  4.98916531e+00]\n",
      " [-4.00000000e+01  1.40000000e+01  5.00000000e+00]]\n",
      "(-40.20769500732422, 1.0488258600234985, 4.9867143630981445)\n",
      "[-40.  14.   5.]\n",
      "[[-2.49359112e+01  4.62402496e-03  4.97533607e+00]\n",
      " [-4.00000000e+01  0.00000000e+00  5.00000000e+00]\n",
      " [-4.00000000e+01 -1.60000000e+01  5.00000000e+00]]\n",
      "(-39.68896484375, -0.013585953041911125, 4.991440773010254)\n",
      "[-40.   0.   5.]\n",
      "--- uav 1 rached waypoint 4 --- \n",
      "current path:[[-3.99041481e+01 -4.18369193e-03  4.99078703e+00]\n",
      " [-4.00000000e+01 -1.60000000e+01  5.00000000e+00]]\n",
      "[[-3.97890053e+01 -1.67092457e-02  4.98916531e+00]\n",
      " [-4.00000000e+01  1.40000000e+01  5.00000000e+00]]\n",
      "(-40.23722457885742, 1.7290070056915283, 4.98555326461792)\n",
      "[-40.  14.   5.]\n",
      "[[-3.99041481e+01 -4.18369193e-03  4.99078703e+00]\n",
      " [-4.00000000e+01 -1.60000000e+01  5.00000000e+00]]\n",
      "(-40.03718185424805, 0.001505913445726037, 4.990513324737549)\n",
      "[-40. -16.   5.]\n",
      "[[-3.97890053e+01 -1.67092457e-02  4.98916531e+00]\n",
      " [-4.00000000e+01  1.40000000e+01  5.00000000e+00]]\n",
      "(-40.26017761230469, 2.5776913166046143, 4.984545707702637)\n",
      "[-40.  14.   5.]\n",
      "[[-3.99041481e+01 -4.18369193e-03  4.99078703e+00]\n",
      " [-4.00000000e+01 -1.60000000e+01  5.00000000e+00]]\n",
      "(-40.10433578491211, 0.0034746977034956217, 4.990657329559326)\n",
      "[-40. -16.   5.]\n",
      "[[-3.97890053e+01 -1.67092457e-02  4.98916531e+00]\n",
      " [-4.00000000e+01  1.40000000e+01  5.00000000e+00]]\n",
      "(-40.275638580322266, 3.587179183959961, 4.984661102294922)\n",
      "[-40.  14.   5.]\n",
      "[[-3.99041481e+01 -4.18369193e-03  4.99078703e+00]\n",
      " [-4.00000000e+01 -1.60000000e+01  5.00000000e+00]]\n",
      "(-40.126075744628906, -0.026916412636637688, 4.991532325744629)\n",
      "[-40. -16.   5.]\n",
      "[[-3.97890053e+01 -1.67092457e-02  4.98916531e+00]\n",
      " [-4.00000000e+01  1.40000000e+01  5.00000000e+00]]\n",
      "(-40.28256607055664, 4.737684726715088, 4.99129581451416)\n",
      "[-40.  14.   5.]\n",
      "[[-3.99041481e+01 -4.18369193e-03  4.99078703e+00]\n",
      " [-4.00000000e+01 -1.60000000e+01  5.00000000e+00]]\n",
      "(-40.126075744628906, -0.16525857150554657, 4.991415500640869)\n",
      "[-40. -16.   5.]\n",
      "[[-3.97890053e+01 -1.67092457e-02  4.98916531e+00]\n",
      " [-4.00000000e+01  1.40000000e+01  5.00000000e+00]]\n",
      "(-40.280696868896484, 5.930154323577881, 5.0060906410217285)\n",
      "[-40.  14.   5.]\n",
      "[[-3.99041481e+01 -4.18369193e-03  4.99078703e+00]\n",
      " [-4.00000000e+01 -1.60000000e+01  5.00000000e+00]]\n",
      "(-40.129085540771484, -0.4640446603298187, 4.989956855773926)\n",
      "[-40. -16.   5.]\n",
      "[[-3.97890053e+01 -1.67092457e-02  4.98916531e+00]\n",
      " [-4.00000000e+01  1.40000000e+01  5.00000000e+00]]\n",
      "(-40.26994323730469, 7.10351037979126, 5.021777629852295)\n",
      "[-40.  14.   5.]\n",
      "[[-3.99041481e+01 -4.18369193e-03  4.99078703e+00]\n",
      " [-4.00000000e+01 -1.60000000e+01  5.00000000e+00]]\n",
      "(-40.13694381713867, -0.94389408826828, 4.987718105316162)\n",
      "[-40. -16.   5.]\n",
      "[[-3.97890053e+01 -1.67092457e-02  4.98916531e+00]\n",
      " [-4.00000000e+01  1.40000000e+01  5.00000000e+00]]\n",
      "(-40.25141906738281, 8.208625793457031, 5.033069133758545)\n",
      "[-40.  14.   5.]\n",
      "[[-3.99041481e+01 -4.18369193e-03  4.99078703e+00]\n",
      " [-4.00000000e+01 -1.60000000e+01  5.00000000e+00]]\n",
      "(-40.144989013671875, -1.601106882095337, 4.984755992889404)\n",
      "[-40. -16.   5.]\n",
      "[[-3.97890053e+01 -1.67092457e-02  4.98916531e+00]\n",
      " [-4.00000000e+01  1.40000000e+01  5.00000000e+00]]\n",
      "(-40.22676086425781, 9.230204582214355, 5.037173748016357)\n",
      "[-40.  14.   5.]\n",
      "[[-3.99041481e+01 -4.18369193e-03  4.99078703e+00]\n",
      " [-4.00000000e+01 -1.60000000e+01  5.00000000e+00]]\n",
      "(-40.149784088134766, -2.4305570125579834, 4.982022285461426)\n",
      "[-40. -16.   5.]\n",
      "[[-3.97890053e+01 -1.67092457e-02  4.98916531e+00]\n",
      " [-4.00000000e+01  1.40000000e+01  5.00000000e+00]]\n",
      "(-40.19670104980469, 10.157808303833008, 5.034126281738281)\n",
      "[-40.  14.   5.]\n",
      "[[-3.99041481e+01 -4.18369193e-03  4.99078703e+00]\n",
      " [-4.00000000e+01 -1.60000000e+01  5.00000000e+00]]\n",
      "(-40.1490364074707, -3.4268412590026855, 4.979484558105469)\n",
      "[-40. -16.   5.]\n",
      "[[-3.97890053e+01 -1.67092457e-02  4.98916531e+00]\n",
      " [-4.00000000e+01  1.40000000e+01  5.00000000e+00]]\n",
      "(-40.16190719604492, 10.986185073852539, 5.027194976806641)\n",
      "[-40.  14.   5.]\n",
      "[[-3.99041481e+01 -4.18369193e-03  4.99078703e+00]\n",
      " [-4.00000000e+01 -1.60000000e+01  5.00000000e+00]]\n",
      "(-40.1427001953125, -4.5810933113098145, 4.97810697555542)\n",
      "[-40. -16.   5.]\n",
      "[[-3.97890053e+01 -1.67092457e-02  4.98916531e+00]\n",
      " [-4.00000000e+01  1.40000000e+01  5.00000000e+00]]\n",
      "(-40.12523651123047, 11.71397876739502, 5.019089221954346)\n",
      "[-40.  14.   5.]\n",
      "[[-3.99041481e+01 -4.18369193e-03  4.99078703e+00]\n",
      " [-4.00000000e+01 -1.60000000e+01  5.00000000e+00]]\n",
      "(-40.130741119384766, -5.847841739654541, 4.984708786010742)\n",
      "[-40. -16.   5.]\n",
      "[[-3.97890053e+01 -1.67092457e-02  4.98916531e+00]\n",
      " [-4.00000000e+01  1.40000000e+01  5.00000000e+00]]\n",
      "(-40.08928298950195, 12.341340065002441, 5.011999130249023)\n",
      "[-40.  14.   5.]\n",
      "[[-3.99041481e+01 -4.18369193e-03  4.99078703e+00]\n",
      " [-4.00000000e+01 -1.60000000e+01  5.00000000e+00]]\n",
      "(-40.11619186401367, -7.140267372131348, 4.999337196350098)\n",
      "[-40. -16.   5.]\n",
      "[[-3.97890053e+01 -1.67092457e-02  4.98916531e+00]\n",
      " [-4.00000000e+01  1.40000000e+01  5.00000000e+00]]\n",
      "(-40.05577087402344, 12.86369514465332, 5.005617618560791)\n",
      "[-40.  14.   5.]\n",
      "[[-3.99041481e+01 -4.18369193e-03  4.99078703e+00]\n",
      " [-4.00000000e+01 -1.60000000e+01  5.00000000e+00]]\n",
      "(-40.10426330566406, -8.397000312805176, 5.01251220703125)\n",
      "[-40. -16.   5.]\n",
      "[[-3.97890053e+01 -1.67092457e-02  4.98916531e+00]\n",
      " [-4.00000000e+01  1.40000000e+01  5.00000000e+00]]\n",
      "(-40.02626419067383, 13.28598690032959, 5.000133514404297)\n",
      "[-40.  14.   5.]\n",
      "[[-3.99041481e+01 -4.18369193e-03  4.99078703e+00]\n",
      " [-4.00000000e+01 -1.60000000e+01  5.00000000e+00]]\n",
      "(-40.09654998779297, -9.581269264221191, 5.020300388336182)\n",
      "[-40. -16.   5.]\n",
      "[[-3.97890053e+01 -1.67092457e-02  4.98916531e+00]\n",
      " [-4.00000000e+01  1.40000000e+01  5.00000000e+00]]\n",
      "(-40.00227355957031, 13.599523544311523, 4.996030330657959)\n",
      "[-40.  14.   5.]\n",
      "[[-3.99041481e+01 -4.18369193e-03  4.99078703e+00]\n",
      " [-4.00000000e+01 -1.60000000e+01  5.00000000e+00]]\n",
      "(-40.093963623046875, -10.674525260925293, 5.021944046020508)\n",
      "[-40. -16.   5.]\n",
      "[[-3.99041481e+01 -4.18369193e-03  4.99078703e+00]\n",
      " [-4.00000000e+01 -1.60000000e+01  5.00000000e+00]]\n",
      "(-40.096004486083984, -11.668157577514648, 5.017940044403076)\n",
      "[-40. -16.   5.]\n",
      "vehicle 1: action fly is done\n",
      "[[-3.99041481e+01 -4.18369193e-03  4.99078703e+00]\n",
      " [-4.00000000e+01 -1.60000000e+01  5.00000000e+00]]\n",
      "(-40.10271072387695, -12.56322193145752, 5.011637210845947)\n",
      "[-40. -16.   5.]\n",
      "[[-3.99041481e+01 -4.18369193e-03  4.99078703e+00]\n",
      " [-4.00000000e+01 -1.60000000e+01  5.00000000e+00]]\n",
      "(-40.11054611206055, -13.35512924194336, 5.005404949188232)\n",
      "[-40. -16.   5.]\n",
      "[[-3.99041481e+01 -4.18369193e-03  4.99078703e+00]\n",
      " [-4.00000000e+01 -1.60000000e+01  5.00000000e+00]]\n",
      "(-40.11846160888672, -14.052989959716797, 5.00015926361084)\n",
      "[-40. -16.   5.]\n",
      "[[-3.99041481e+01 -4.18369193e-03  4.99078703e+00]\n",
      " [-4.00000000e+01 -1.60000000e+01  5.00000000e+00]]\n",
      "(-40.12601852416992, -14.637167930603027, 4.9964447021484375)\n",
      "[-40. -16.   5.]\n",
      "[[-3.99041481e+01 -4.18369193e-03  4.99078703e+00]\n",
      " [-4.00000000e+01 -1.60000000e+01  5.00000000e+00]]\n",
      "(-40.13434982299805, -15.126494407653809, 4.994271278381348)\n",
      "[-40. -16.   5.]\n",
      "[[-3.99041481e+01 -4.18369193e-03  4.99078703e+00]\n",
      " [-4.00000000e+01 -1.60000000e+01  5.00000000e+00]]\n",
      "(-40.13947296142578, -15.507813453674316, 4.993633270263672)\n",
      "[-40. -16.   5.]\n",
      "[[-3.99041481e+01 -4.18369193e-03  4.99078703e+00]\n",
      " [-4.00000000e+01 -1.60000000e+01  5.00000000e+00]]\n",
      "(-40.14059829711914, -15.78231143951416, 4.993866443634033)\n",
      "[-40. -16.   5.]\n",
      "vehicle 2: action fly is done\n",
      "vehicle 2: action land is done\n",
      "vehicle 1: action land is done\n"
     ]
    }
   ],
   "source": [
    "mission_incomplete = n_uavs*[True]\n",
    "target_reached =n_uavs*[False] \n",
    "nav_wps=list(local_wps.copy())\n",
    "eps=1\n",
    "wp_index=n_uavs*[0]\n",
    "while any(mission_incomplete):\n",
    "    for i,uav in enumerate(uavs):\n",
    "        mission_incomplete[i] = uav.act_plan()\n",
    "        if uav.is_reached and (not target_reached[i]):\n",
    "            wp_index[i]+=1\n",
    "            target=local_targets[i]\n",
    "            current = np.array(uav.get_local_position())\n",
    "            waypoints=nav_wps[i]\n",
    "            # GPS spoofing\n",
    "            # if manhattan_distance(current,(-25, 0))<1:\n",
    "            #     current=(-25, -20)\n",
    "            same_quadrant=in_same_orthant(current, target,waypoints,eps=eps)\n",
    "            waypoints= waypoints[same_quadrant]\n",
    "            next_wp,waypoints= find_best_waypoint(current, target, waypoints,eps=eps)\n",
    "            \n",
    "            if not np.array_equal(next_wp, target):\n",
    "                path=np.stack([current,next_wp,target],axis=0)\n",
    "            else:\n",
    "                path=np.stack([current,target],axis=0)\n",
    "                target_reached[i]=True\n",
    "            print(f'--- uav {i} rached waypoint {wp_index[i]} --- ')\n",
    "            print(f'current path:{path}')\n",
    "            uav.update_waypoints(path)\n",
    "            nav_wps[i]=waypoints\n",
    "        "
   ]
  },
  {
   "cell_type": "markdown",
   "metadata": {},
   "source": [
    "## Kill all related process"
   ]
  },
  {
   "cell_type": "code",
   "execution_count": 32,
   "metadata": {},
   "outputs": [],
   "source": [
    "# for process in [\"QGroundControl\", \"sim_vehicle.py\", \"arducopter\", \"gazebo\", \"mavproxy\"]:\n",
    "#     os.system(f\"pkill -9 -f {process}\")"
   ]
  }
 ],
 "metadata": {
  "kernelspec": {
   "display_name": "pymavlink",
   "language": "python",
   "name": "python3"
  },
  "language_info": {
   "codemirror_mode": {
    "name": "ipython",
    "version": 3
   },
   "file_extension": ".py",
   "mimetype": "text/x-python",
   "name": "python",
   "nbconvert_exporter": "python",
   "pygments_lexer": "ipython3",
   "version": "3.9.21"
  }
 },
 "nbformat": 4,
 "nbformat_minor": 2
}
