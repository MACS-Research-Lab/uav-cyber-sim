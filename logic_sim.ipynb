{
 "cells": [
  {
   "cell_type": "markdown",
   "metadata": {},
   "source": [
    "## Logic Rule Simulation\n",
    "\n",
    "This notebook implements a uav logic instead of a plan and decisions are done online following that logic"
   ]
  },
  {
   "cell_type": "code",
   "execution_count": 17,
   "metadata": {},
   "outputs": [],
   "source": [
    "import os\n",
    "import subprocess\n",
    "from pymavlink import mavutil\n",
    "import numpy as np\n",
    "from collections import OrderedDict\n",
    "\n",
    "# Custom modules\n",
    "from vehicle_logic import VehicleLogic\n",
    "from helpers.change_coordinates import heading_to_yaw,find_spawns,global2local\n",
    "from helpers.visualization.gazebo_world import update_world\n",
    "from helpers.math import manhattan_distance\n",
    "from helpers.navegation_logic import find_path,find_best_waypoint\n",
    "from helpers.visualization.plots import plot_3d_interactive"
   ]
  },
  {
   "cell_type": "markdown",
   "metadata": {},
   "source": [
    "## Kill all related process"
   ]
  },
  {
   "cell_type": "code",
   "execution_count": 18,
   "metadata": {},
   "outputs": [],
   "source": [
    "for process in [\"QGroundControl\", \"sim_vehicle.py\", \"arducopter\", \"gazebo\", \"mavproxy\"]:\n",
    "    os.system(f\"pkill -9 -f {process}\")"
   ]
  },
  {
   "cell_type": "markdown",
   "metadata": {},
   "source": [
    "## Paths"
   ]
  },
  {
   "cell_type": "code",
   "execution_count": 3,
   "metadata": {},
   "outputs": [],
   "source": [
    "QGC_path='~/QGroundControl.AppImage'\n",
    "gazebo_word_path=\"gazebo_worlds/attack_city.world\"\n",
    "ardupilot_vehicle_path='~/ardupilot/Tools/autotest/sim_vehicle.py'"
   ]
  },
  {
   "cell_type": "markdown",
   "metadata": {},
   "source": [
    "# Choose Simulator"
   ]
  },
  {
   "cell_type": "code",
   "execution_count": 4,
   "metadata": {},
   "outputs": [],
   "source": [
    "simulator ='gazebo' # 'QGroundControl' #"
   ]
  },
  {
   "cell_type": "markdown",
   "metadata": {},
   "source": [
    "## Gonfiguration"
   ]
  },
  {
   "cell_type": "code",
   "execution_count": 5,
   "metadata": {},
   "outputs": [
    {
     "data": {
      "application/vnd.plotly.v1+json": {
       "config": {
        "plotlyServerURL": "https://plot.ly"
       },
       "data": [
        {
         "marker": {
          "color": "yellow",
          "size": 6
         },
         "mode": "markers",
         "name": "waypoints",
         "type": "scatter3d",
         "x": [
          40,
          15,
          0,
          0,
          40,
          15,
          0
         ],
         "y": [
          -10,
          -10,
          -10,
          4,
          20,
          20,
          20
         ],
         "z": [
          5,
          5,
          5,
          5,
          5,
          5,
          5
         ]
        },
        {
         "marker": {
          "color": "blue",
          "size": 6
         },
         "mode": "markers",
         "name": "homes",
         "type": "scatter3d",
         "x": [
          40,
          40
         ],
         "y": [
          -10,
          20
         ],
         "z": [
          0,
          0
         ]
        },
        {
         "marker": {
          "color": "green",
          "size": 6
         },
         "mode": "markers",
         "name": "targets",
         "type": "scatter3d",
         "x": [
          0,
          0
         ],
         "y": [
          4,
          4
         ],
         "z": [
          0,
          0
         ]
        }
       ],
       "layout": {
        "height": 600,
        "scene": {
         "xaxis": {
          "range": [
           -8,
           48
          ],
          "title": {
           "text": "x"
          }
         },
         "yaxis": {
          "range": [
           -16,
           26
          ],
          "title": {
           "text": "y"
          }
         },
         "zaxis": {
          "range": [
           -0.05,
           7
          ],
          "title": {
           "text": "z"
          }
         }
        },
        "template": {
         "data": {
          "bar": [
           {
            "error_x": {
             "color": "#2a3f5f"
            },
            "error_y": {
             "color": "#2a3f5f"
            },
            "marker": {
             "line": {
              "color": "#E5ECF6",
              "width": 0.5
             },
             "pattern": {
              "fillmode": "overlay",
              "size": 10,
              "solidity": 0.2
             }
            },
            "type": "bar"
           }
          ],
          "barpolar": [
           {
            "marker": {
             "line": {
              "color": "#E5ECF6",
              "width": 0.5
             },
             "pattern": {
              "fillmode": "overlay",
              "size": 10,
              "solidity": 0.2
             }
            },
            "type": "barpolar"
           }
          ],
          "carpet": [
           {
            "aaxis": {
             "endlinecolor": "#2a3f5f",
             "gridcolor": "white",
             "linecolor": "white",
             "minorgridcolor": "white",
             "startlinecolor": "#2a3f5f"
            },
            "baxis": {
             "endlinecolor": "#2a3f5f",
             "gridcolor": "white",
             "linecolor": "white",
             "minorgridcolor": "white",
             "startlinecolor": "#2a3f5f"
            },
            "type": "carpet"
           }
          ],
          "choropleth": [
           {
            "colorbar": {
             "outlinewidth": 0,
             "ticks": ""
            },
            "type": "choropleth"
           }
          ],
          "contour": [
           {
            "colorbar": {
             "outlinewidth": 0,
             "ticks": ""
            },
            "colorscale": [
             [
              0,
              "#0d0887"
             ],
             [
              0.1111111111111111,
              "#46039f"
             ],
             [
              0.2222222222222222,
              "#7201a8"
             ],
             [
              0.3333333333333333,
              "#9c179e"
             ],
             [
              0.4444444444444444,
              "#bd3786"
             ],
             [
              0.5555555555555556,
              "#d8576b"
             ],
             [
              0.6666666666666666,
              "#ed7953"
             ],
             [
              0.7777777777777778,
              "#fb9f3a"
             ],
             [
              0.8888888888888888,
              "#fdca26"
             ],
             [
              1,
              "#f0f921"
             ]
            ],
            "type": "contour"
           }
          ],
          "contourcarpet": [
           {
            "colorbar": {
             "outlinewidth": 0,
             "ticks": ""
            },
            "type": "contourcarpet"
           }
          ],
          "heatmap": [
           {
            "colorbar": {
             "outlinewidth": 0,
             "ticks": ""
            },
            "colorscale": [
             [
              0,
              "#0d0887"
             ],
             [
              0.1111111111111111,
              "#46039f"
             ],
             [
              0.2222222222222222,
              "#7201a8"
             ],
             [
              0.3333333333333333,
              "#9c179e"
             ],
             [
              0.4444444444444444,
              "#bd3786"
             ],
             [
              0.5555555555555556,
              "#d8576b"
             ],
             [
              0.6666666666666666,
              "#ed7953"
             ],
             [
              0.7777777777777778,
              "#fb9f3a"
             ],
             [
              0.8888888888888888,
              "#fdca26"
             ],
             [
              1,
              "#f0f921"
             ]
            ],
            "type": "heatmap"
           }
          ],
          "histogram": [
           {
            "marker": {
             "pattern": {
              "fillmode": "overlay",
              "size": 10,
              "solidity": 0.2
             }
            },
            "type": "histogram"
           }
          ],
          "histogram2d": [
           {
            "colorbar": {
             "outlinewidth": 0,
             "ticks": ""
            },
            "colorscale": [
             [
              0,
              "#0d0887"
             ],
             [
              0.1111111111111111,
              "#46039f"
             ],
             [
              0.2222222222222222,
              "#7201a8"
             ],
             [
              0.3333333333333333,
              "#9c179e"
             ],
             [
              0.4444444444444444,
              "#bd3786"
             ],
             [
              0.5555555555555556,
              "#d8576b"
             ],
             [
              0.6666666666666666,
              "#ed7953"
             ],
             [
              0.7777777777777778,
              "#fb9f3a"
             ],
             [
              0.8888888888888888,
              "#fdca26"
             ],
             [
              1,
              "#f0f921"
             ]
            ],
            "type": "histogram2d"
           }
          ],
          "histogram2dcontour": [
           {
            "colorbar": {
             "outlinewidth": 0,
             "ticks": ""
            },
            "colorscale": [
             [
              0,
              "#0d0887"
             ],
             [
              0.1111111111111111,
              "#46039f"
             ],
             [
              0.2222222222222222,
              "#7201a8"
             ],
             [
              0.3333333333333333,
              "#9c179e"
             ],
             [
              0.4444444444444444,
              "#bd3786"
             ],
             [
              0.5555555555555556,
              "#d8576b"
             ],
             [
              0.6666666666666666,
              "#ed7953"
             ],
             [
              0.7777777777777778,
              "#fb9f3a"
             ],
             [
              0.8888888888888888,
              "#fdca26"
             ],
             [
              1,
              "#f0f921"
             ]
            ],
            "type": "histogram2dcontour"
           }
          ],
          "mesh3d": [
           {
            "colorbar": {
             "outlinewidth": 0,
             "ticks": ""
            },
            "type": "mesh3d"
           }
          ],
          "parcoords": [
           {
            "line": {
             "colorbar": {
              "outlinewidth": 0,
              "ticks": ""
             }
            },
            "type": "parcoords"
           }
          ],
          "pie": [
           {
            "automargin": true,
            "type": "pie"
           }
          ],
          "scatter": [
           {
            "fillpattern": {
             "fillmode": "overlay",
             "size": 10,
             "solidity": 0.2
            },
            "type": "scatter"
           }
          ],
          "scatter3d": [
           {
            "line": {
             "colorbar": {
              "outlinewidth": 0,
              "ticks": ""
             }
            },
            "marker": {
             "colorbar": {
              "outlinewidth": 0,
              "ticks": ""
             }
            },
            "type": "scatter3d"
           }
          ],
          "scattercarpet": [
           {
            "marker": {
             "colorbar": {
              "outlinewidth": 0,
              "ticks": ""
             }
            },
            "type": "scattercarpet"
           }
          ],
          "scattergeo": [
           {
            "marker": {
             "colorbar": {
              "outlinewidth": 0,
              "ticks": ""
             }
            },
            "type": "scattergeo"
           }
          ],
          "scattergl": [
           {
            "marker": {
             "colorbar": {
              "outlinewidth": 0,
              "ticks": ""
             }
            },
            "type": "scattergl"
           }
          ],
          "scattermap": [
           {
            "marker": {
             "colorbar": {
              "outlinewidth": 0,
              "ticks": ""
             }
            },
            "type": "scattermap"
           }
          ],
          "scattermapbox": [
           {
            "marker": {
             "colorbar": {
              "outlinewidth": 0,
              "ticks": ""
             }
            },
            "type": "scattermapbox"
           }
          ],
          "scatterpolar": [
           {
            "marker": {
             "colorbar": {
              "outlinewidth": 0,
              "ticks": ""
             }
            },
            "type": "scatterpolar"
           }
          ],
          "scatterpolargl": [
           {
            "marker": {
             "colorbar": {
              "outlinewidth": 0,
              "ticks": ""
             }
            },
            "type": "scatterpolargl"
           }
          ],
          "scatterternary": [
           {
            "marker": {
             "colorbar": {
              "outlinewidth": 0,
              "ticks": ""
             }
            },
            "type": "scatterternary"
           }
          ],
          "surface": [
           {
            "colorbar": {
             "outlinewidth": 0,
             "ticks": ""
            },
            "colorscale": [
             [
              0,
              "#0d0887"
             ],
             [
              0.1111111111111111,
              "#46039f"
             ],
             [
              0.2222222222222222,
              "#7201a8"
             ],
             [
              0.3333333333333333,
              "#9c179e"
             ],
             [
              0.4444444444444444,
              "#bd3786"
             ],
             [
              0.5555555555555556,
              "#d8576b"
             ],
             [
              0.6666666666666666,
              "#ed7953"
             ],
             [
              0.7777777777777778,
              "#fb9f3a"
             ],
             [
              0.8888888888888888,
              "#fdca26"
             ],
             [
              1,
              "#f0f921"
             ]
            ],
            "type": "surface"
           }
          ],
          "table": [
           {
            "cells": {
             "fill": {
              "color": "#EBF0F8"
             },
             "line": {
              "color": "white"
             }
            },
            "header": {
             "fill": {
              "color": "#C8D4E3"
             },
             "line": {
              "color": "white"
             }
            },
            "type": "table"
           }
          ]
         },
         "layout": {
          "annotationdefaults": {
           "arrowcolor": "#2a3f5f",
           "arrowhead": 0,
           "arrowwidth": 1
          },
          "autotypenumbers": "strict",
          "coloraxis": {
           "colorbar": {
            "outlinewidth": 0,
            "ticks": ""
           }
          },
          "colorscale": {
           "diverging": [
            [
             0,
             "#8e0152"
            ],
            [
             0.1,
             "#c51b7d"
            ],
            [
             0.2,
             "#de77ae"
            ],
            [
             0.3,
             "#f1b6da"
            ],
            [
             0.4,
             "#fde0ef"
            ],
            [
             0.5,
             "#f7f7f7"
            ],
            [
             0.6,
             "#e6f5d0"
            ],
            [
             0.7,
             "#b8e186"
            ],
            [
             0.8,
             "#7fbc41"
            ],
            [
             0.9,
             "#4d9221"
            ],
            [
             1,
             "#276419"
            ]
           ],
           "sequential": [
            [
             0,
             "#0d0887"
            ],
            [
             0.1111111111111111,
             "#46039f"
            ],
            [
             0.2222222222222222,
             "#7201a8"
            ],
            [
             0.3333333333333333,
             "#9c179e"
            ],
            [
             0.4444444444444444,
             "#bd3786"
            ],
            [
             0.5555555555555556,
             "#d8576b"
            ],
            [
             0.6666666666666666,
             "#ed7953"
            ],
            [
             0.7777777777777778,
             "#fb9f3a"
            ],
            [
             0.8888888888888888,
             "#fdca26"
            ],
            [
             1,
             "#f0f921"
            ]
           ],
           "sequentialminus": [
            [
             0,
             "#0d0887"
            ],
            [
             0.1111111111111111,
             "#46039f"
            ],
            [
             0.2222222222222222,
             "#7201a8"
            ],
            [
             0.3333333333333333,
             "#9c179e"
            ],
            [
             0.4444444444444444,
             "#bd3786"
            ],
            [
             0.5555555555555556,
             "#d8576b"
            ],
            [
             0.6666666666666666,
             "#ed7953"
            ],
            [
             0.7777777777777778,
             "#fb9f3a"
            ],
            [
             0.8888888888888888,
             "#fdca26"
            ],
            [
             1,
             "#f0f921"
            ]
           ]
          },
          "colorway": [
           "#636efa",
           "#EF553B",
           "#00cc96",
           "#ab63fa",
           "#FFA15A",
           "#19d3f3",
           "#FF6692",
           "#B6E880",
           "#FF97FF",
           "#FECB52"
          ],
          "font": {
           "color": "#2a3f5f"
          },
          "geo": {
           "bgcolor": "white",
           "lakecolor": "white",
           "landcolor": "#E5ECF6",
           "showlakes": true,
           "showland": true,
           "subunitcolor": "white"
          },
          "hoverlabel": {
           "align": "left"
          },
          "hovermode": "closest",
          "mapbox": {
           "style": "light"
          },
          "paper_bgcolor": "white",
          "plot_bgcolor": "#E5ECF6",
          "polar": {
           "angularaxis": {
            "gridcolor": "white",
            "linecolor": "white",
            "ticks": ""
           },
           "bgcolor": "#E5ECF6",
           "radialaxis": {
            "gridcolor": "white",
            "linecolor": "white",
            "ticks": ""
           }
          },
          "scene": {
           "xaxis": {
            "backgroundcolor": "#E5ECF6",
            "gridcolor": "white",
            "gridwidth": 2,
            "linecolor": "white",
            "showbackground": true,
            "ticks": "",
            "zerolinecolor": "white"
           },
           "yaxis": {
            "backgroundcolor": "#E5ECF6",
            "gridcolor": "white",
            "gridwidth": 2,
            "linecolor": "white",
            "showbackground": true,
            "ticks": "",
            "zerolinecolor": "white"
           },
           "zaxis": {
            "backgroundcolor": "#E5ECF6",
            "gridcolor": "white",
            "gridwidth": 2,
            "linecolor": "white",
            "showbackground": true,
            "ticks": "",
            "zerolinecolor": "white"
           }
          },
          "shapedefaults": {
           "line": {
            "color": "#2a3f5f"
           }
          },
          "ternary": {
           "aaxis": {
            "gridcolor": "white",
            "linecolor": "white",
            "ticks": ""
           },
           "baxis": {
            "gridcolor": "white",
            "linecolor": "white",
            "ticks": ""
           },
           "bgcolor": "#E5ECF6",
           "caxis": {
            "gridcolor": "white",
            "linecolor": "white",
            "ticks": ""
           }
          },
          "title": {
           "x": 0.05
          },
          "xaxis": {
           "automargin": true,
           "gridcolor": "white",
           "linecolor": "white",
           "ticks": "",
           "title": {
            "standoff": 15
           },
           "zerolinecolor": "white",
           "zerolinewidth": 2
          },
          "yaxis": {
           "automargin": true,
           "gridcolor": "white",
           "linecolor": "white",
           "ticks": "",
           "title": {
            "standoff": 15
           },
           "zerolinecolor": "white",
           "zerolinewidth": 2
          }
         }
        },
        "title": {
         "text": "Simulation Markers",
         "x": 0.5,
         "xanchor": "center"
        },
        "width": 800
       }
      }
     },
     "metadata": {},
     "output_type": "display_data"
    }
   ],
   "source": [
    "wps = [(40, -10, 5),\n",
    "            (15, -10, 5),\n",
    "            (0, -10, 5),\n",
    "            (0, 4, 5),\n",
    "            (40, 20, 5),\n",
    "            (15, 20, 5),\n",
    "            (0, 20, 5)]\n",
    "\n",
    "\n",
    "use_nav_wps=[True,False]\n",
    "\n",
    "\n",
    "GPS_spoofings={'real':[(15, -10, 5),(15, 20, 5)],'fake':[(15, 10, 5),(15, 0, 5)]}\n",
    "GPS_spoofings={}\n",
    "\n",
    "wp_plans=[\n",
    "    [(40, -10,5),(0, 4,5)],\n",
    "    [(40,  20, 5),(0, 4,5)]\n",
    "    ]\n",
    "\n",
    "n_uavs = len(use_nav_wps)\n",
    "\n",
    "\n",
    "homes=[(*plan[0][:2],0) for plan in wp_plans]\n",
    "targets=[(*plan[-1][:2],0) for plan in wp_plans]\n",
    "\n",
    "markers = {'waypoints': {'pos':wps,'color':'yellow'},\n",
    "           'homes': {'pos':homes,'color':'blue'},\n",
    "           'targets':{'pos':targets,'color':'green'}}\n",
    "\n",
    "\n",
    "if GPS_spoofings:\n",
    "    assert len(GPS_spoofings['real'])==len(GPS_spoofings['fakr']), 'real and fake position must be a one-to-one relation' \n",
    "    markers.update({\n",
    "        'spoofing real':{'pos':GPS_spoofings['real'],'color':'orange'},\n",
    "        'spoofing fake':{'pos':GPS_spoofings['fake'],'color':'red'}})\n",
    "\n",
    "# Interactive widget to rotate the plot\n",
    "\n",
    "plot_3d_interactive(markers,title='Simulation Markers',expand=[0.2,0.2,0.4],ground=-0.05)\n"
   ]
  },
  {
   "cell_type": "markdown",
   "metadata": {},
   "source": [
    "# Get Local positions"
   ]
  },
  {
   "cell_type": "code",
   "execution_count": 6,
   "metadata": {},
   "outputs": [],
   "source": [
    "eps=1\n",
    "headings=n_uavs*[0]\n",
    "offsets=[(*home,heading) for home,heading in zip(homes,headings)]"
   ]
  },
  {
   "cell_type": "code",
   "execution_count": 7,
   "metadata": {},
   "outputs": [],
   "source": [
    "homes_np=np.array(homes)\n",
    "wps_np = np.array(wps)  # Extract keys as a list of tuples\n",
    "\n",
    "\n",
    "local_wps=global2local(wps_np, homes_np,pairwise=False)\n",
    "local_plans=[global2local(np.array(plan), home,pairwise=True) for plan,home in zip(wp_plans,homes_np)]\n",
    "\n",
    "\n",
    "local_GPS_spoofings={key:global2local(np.array(value), homes_np,pairwise=False) for key,value in GPS_spoofings.items()}"
   ]
  },
  {
   "cell_type": "code",
   "execution_count": 8,
   "metadata": {},
   "outputs": [],
   "source": [
    "if simulator == 'QGroundControl':\n",
    "    # lat,long,alt,heading\n",
    "    home_position=(-35.3633245,149.1652241,0,90)\n",
    "    spawns=find_spawns(home_position, offsets)"
   ]
  },
  {
   "cell_type": "markdown",
   "metadata": {},
   "source": [
    "## Waypoint seletion algorithm\n",
    "\n",
    "The path is shown in local coordinates"
   ]
  },
  {
   "cell_type": "code",
   "execution_count": 9,
   "metadata": {},
   "outputs": [
    {
     "name": "stdout",
     "output_type": "stream",
     "text": [
      "uav-0 Best path: [[  0   0   0]\n",
      " [  0   0   5]\n",
      " [-25   0   5]\n",
      " [-40   0   5]\n",
      " [-40  14   5]]\n",
      "uav-1 Best path: [[  0   0   0]\n",
      " [  0   0   5]\n",
      " [-25   0   5]\n",
      " [-40   0   5]\n",
      " [-40 -16   5]]\n"
     ]
    }
   ],
   "source": [
    "for i,((_,end),waypoints) in enumerate(zip(local_plans,local_wps)):\n",
    "        local_path=find_path(np.array((0,0,0)),end, waypoints,eps=1)\n",
    "        print(f'uav-{i} Best path: {local_path}') \n"
   ]
  },
  {
   "cell_type": "markdown",
   "metadata": {},
   "source": [
    "## Launch Simulator"
   ]
  },
  {
   "cell_type": "code",
   "execution_count": 10,
   "metadata": {},
   "outputs": [],
   "source": [
    "if simulator == 'QGroundControl':\n",
    "    sim_path = os.path.expanduser(QGC_path)\n",
    "    sim_cmd =[sim_path]\n",
    "elif simulator == 'gazebo':\n",
    "    # Convert to Gazebo format (name, x, y, z, roll, pitch, yaw)\n",
    "    drones = [(east, north, up, 0, 0, heading_to_yaw(heading)) for i, (east, north, up, heading) in enumerate(offsets)]\n",
    "    world_path = os.path.expanduser(gazebo_word_path)\n",
    "    updated_world_path = update_world(drones,markers,world_path)\n",
    "    sim_cmd = [\"gazebo\", \"--verbose\", updated_world_path] \n",
    "\n",
    "simulator_process = subprocess.Popen(\n",
    "                    sim_cmd,\n",
    "                    stdout=subprocess.DEVNULL,  # Suppress standard output\n",
    "                    stderr=subprocess.DEVNULL,  # Suppress error output\n",
    "                    shell=False  # Ensure safety when passing arguments\n",
    "                    )"
   ]
  },
  {
   "cell_type": "markdown",
   "metadata": {},
   "source": [
    "## Create Plan"
   ]
  },
  {
   "cell_type": "code",
   "execution_count": 11,
   "metadata": {},
   "outputs": [],
   "source": [
    "uavs_arg = []\n",
    "for i in range(n_uavs):\n",
    "    uav_arg={'waypoints':local_plans[i],\n",
    "             'plan': ['check_prearm','check_pos_est','mode_stabilize','mode_guided','arm','takeoff','fly','land'],\n",
    "             'wp_margin': 0.5}\n",
    "    uavs_arg.append(uav_arg)"
   ]
  },
  {
   "cell_type": "markdown",
   "metadata": {},
   "source": [
    "# Launch Vehicle"
   ]
  },
  {
   "cell_type": "code",
   "execution_count": 12,
   "metadata": {},
   "outputs": [],
   "source": [
    "vehicle_path = os.path.expanduser(ardupilot_vehicle_path)"
   ]
  },
  {
   "cell_type": "code",
   "execution_count": 13,
   "metadata": {},
   "outputs": [],
   "source": [
    "for i in range(n_uavs):\n",
    "    vehicle_cmd = f\"python3 {vehicle_path} -v ArduCopter -I{i} --sysid {i+1} --no-rebuild\"\n",
    "    if simulator == 'QGroundControl':\n",
    "        spawn=','.join(map(str, spawns[i]))\n",
    "        vehicle_cmd += f\" --custom-location={spawn}\"\n",
    "    elif simulator == 'gazebo':\n",
    "        vehicle_cmd += \" -f gazebo-iris\"\n",
    "    subprocess.Popen([\"gnome-terminal\", \"--\", \"bash\", \"-c\", f\"{vehicle_cmd}; exec bash\"])"
   ]
  },
  {
   "cell_type": "markdown",
   "metadata": {},
   "source": [
    "## Create UavLogic"
   ]
  },
  {
   "cell_type": "code",
   "execution_count": 14,
   "metadata": {},
   "outputs": [
    {
     "name": "stdout",
     "output_type": "stream",
     "text": [
      "vehicle 1 created\n",
      "vehicle 2 created\n"
     ]
    }
   ],
   "source": [
    "uavs=[]\n",
    "for i,uav_arg in enumerate(uavs_arg):\n",
    "    connection = mavutil.mavlink_connection(f'udp:127.0.0.1:{14551+10*i}')\n",
    "    connection.wait_heartbeat()\n",
    "    uav=VehicleLogic(connection,**uav_arg)\n",
    "    uavs.append(uav)"
   ]
  },
  {
   "cell_type": "markdown",
   "metadata": {},
   "source": [
    "## Execute Plan"
   ]
  },
  {
   "cell_type": "code",
   "execution_count": null,
   "metadata": {},
   "outputs": [
    {
     "name": "stdout",
     "output_type": "stream",
     "text": [
      "vehicle 1: action check_prearm is done\n",
      "vehicle 2: action check_prearm is done\n",
      "vehicle 1: action check_pos_est is done\n",
      "vehicle 2: action check_pos_est is done\n",
      "vehicle 1: action mode_stabilize is done\n",
      "vehicle 2: action mode_stabilize is done\n",
      "vehicle 1: action mode_guided is done\n",
      "vehicle 2: action mode_guided is done\n",
      "vehicle 1: action arm is done\n",
      "vehicle 2: action arm is done\n",
      "--- uav 0 rached waypoint 1 --- \n",
      "--- uav 1 rached waypoint 1 --- \n",
      "--- uav 0 rached waypoint 2 --- \n",
      "--- uav 1 rached waypoint 2 --- \n",
      "--- uav 0 rached waypoint 3 --- \n",
      "--- uav 1 rached waypoint 3 --- \n",
      "vehicle 1: action land is done\n",
      "vehicle 2: action land is done\n",
      "[array([-25,   0,   5]), array([-40,   0,   5]), array([-40,  14,   5])]\n",
      "[array([-25,   0,   5]), array([-40,   0,   5]), array([-40, -16,   5])]\n"
     ]
    }
   ],
   "source": [
    "mission_incomplete = n_uavs*[True]\n",
    "paths=[[] for _ in range(n_uavs)]\n",
    "\n",
    "while any(mission_incomplete):\n",
    "    for i,uav in enumerate(uavs):\n",
    "        if uav.current_action()=='fly' and uav.wp_reached:\n",
    "            # Search algorithm\n",
    "            final_wp = uav.wps[1]\n",
    "            curr_wp  = uav.wps[0]\n",
    "\n",
    "            # GPS spoofing\n",
    "            if GPS_spoofings:\n",
    "                spoof_dists=manhattan_distance(curr_wp,local_GPS_spoofings['real'][i])\n",
    "                spoof_idx=np.argmin(spoof_dists)\n",
    "                if spoof_dists[spoof_idx]<1:\n",
    "                    curr_wp=local_GPS_spoofings['fake'][i][spoof_idx]\n",
    "            \n",
    "            # Search algorithm\n",
    "            curr_wp= find_best_waypoint(curr_wp, final_wp, local_wps[i],eps=eps)\n",
    "            \n",
    "            # Modify wp_plan\n",
    "            if np.array_equal(curr_wp, final_wp):\n",
    "                path=np.stack([final_wp],axis=0)\n",
    "            else:\n",
    "                path=np.stack([curr_wp,final_wp],axis=0)\n",
    "\n",
    "            uav.update_waypoints(path)\n",
    "\n",
    "            paths[i].append(curr_wp)\n",
    "        mission_incomplete[i] = uav.act_plan()\n",
    "for path in paths:\n",
    "    print(path)\n",
    "        "
   ]
  },
  {
   "cell_type": "markdown",
   "metadata": {},
   "source": [
    "## Kill all related process"
   ]
  },
  {
   "cell_type": "code",
   "execution_count": 16,
   "metadata": {},
   "outputs": [],
   "source": [
    "# for process in [\"QGroundControl\", \"sim_vehicle.py\", \"arducopter\", \"gazebo\", \"mavproxy\"]:\n",
    "#     os.system(f\"pkill -9 -f {process}\")"
   ]
  },
  {
   "cell_type": "code",
   "execution_count": null,
   "metadata": {},
   "outputs": [],
   "source": []
  }
 ],
 "metadata": {
  "kernelspec": {
   "display_name": "pymavlink",
   "language": "python",
   "name": "python3"
  },
  "language_info": {
   "codemirror_mode": {
    "name": "ipython",
    "version": 3
   },
   "file_extension": ".py",
   "mimetype": "text/x-python",
   "name": "python",
   "nbconvert_exporter": "python",
   "pygments_lexer": "ipython3",
   "version": "3.9.21"
  }
 },
 "nbformat": 4,
 "nbformat_minor": 2
}
