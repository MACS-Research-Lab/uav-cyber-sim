{
 "cells": [
  {
   "cell_type": "markdown",
   "metadata": {},
   "source": [
    "## Logic Rule Simulation\n",
    "\n",
    "This notebook implements a uav logic instead of a plan and decisions are done online following that logic"
   ]
  },
  {
   "cell_type": "code",
   "execution_count": 1,
   "metadata": {},
   "outputs": [],
   "source": [
    "import os\n",
    "import subprocess\n",
    "from pymavlink import mavutil\n",
    "import numpy as np\n",
    "from collections import OrderedDict\n",
    "\n",
    "# Custom modules\n",
    "from vehicle_logic import VehicleLogic\n",
    "from helpers.change_coordinates import heading_to_yaw,find_spawns\n",
    "from helpers.gazebo_world import update_world\n",
    "from helpers.math import manhattan_distance\n",
    "from helpers.navegation_logic import find_path,find_best_waypoint"
   ]
  },
  {
   "cell_type": "markdown",
   "metadata": {},
   "source": [
    "## Kill all related process"
   ]
  },
  {
   "cell_type": "code",
   "execution_count": 2,
   "metadata": {},
   "outputs": [],
   "source": [
    "for process in [\"QGroundControl\", \"sim_vehicle.py\", \"arducopter\", \"gazebo\", \"mavproxy\"]:\n",
    "    os.system(f\"pkill -9 -f {process}\")"
   ]
  },
  {
   "cell_type": "markdown",
   "metadata": {},
   "source": [
    "## Paths"
   ]
  },
  {
   "cell_type": "code",
   "execution_count": 3,
   "metadata": {},
   "outputs": [],
   "source": [
    "QGC_path='~/QGroundControl.AppImage'\n",
    "gazebo_word_path=\"gazebo_worlds/attack_city.world\"\n",
    "ardupilot_vehicle_path='~/ardupilot/Tools/autotest/sim_vehicle.py'"
   ]
  },
  {
   "cell_type": "markdown",
   "metadata": {},
   "source": [
    "# Choose Simulator"
   ]
  },
  {
   "cell_type": "code",
   "execution_count": 4,
   "metadata": {},
   "outputs": [],
   "source": [
    "simulator ='gazebo' # 'QGroundControl' #"
   ]
  },
  {
   "cell_type": "markdown",
   "metadata": {},
   "source": [
    "# Choose Initial Position"
   ]
  },
  {
   "cell_type": "code",
   "execution_count": 5,
   "metadata": {},
   "outputs": [],
   "source": [
    "offsets = [(40, -10, 0, 0),(40, 20, 0, 0)]#\n",
    "target_pos = [(0, 4, 0),(0, 4, 0)]#\n",
    "init_alt=[5,5]#,5\n",
    "n_uavs = len(offsets)\n",
    "waypoints = OrderedDict({(40, -10, 5):'green',\n",
    "                        (15, -10, 5):'green',\n",
    "                        (0, -10, 5):'green',\n",
    "                        (0, 4, 5):'green',\n",
    "                       (40, 20, 5):'green',\n",
    "                        (15, 20, 5):'green',\n",
    "                        (0, 20, 5):'orange'})\n",
    "\n",
    "\n",
    "                # lat,long,alt,heading\n",
    "if simulator == 'QGroundControl':\n",
    "    home_position=(-35.3633245,149.1652241,0,90)\n",
    "    spawns=find_spawns(home_position, offsets)"
   ]
  },
  {
   "cell_type": "code",
   "execution_count": 6,
   "metadata": {},
   "outputs": [],
   "source": [
    "waypoints_np = np.array(list(waypoints.keys()))  # Extract keys as a list of tuples\n",
    "offsets_np=np.array(offsets)[:,:3]\n",
    "targets_np=np.array(target_pos)\n",
    "def get_uav_wps(waypoints: np.ndarray, offsets: np.ndarray) -> np.ndarray:\n",
    "    \"\"\"Computes UAV waypoints using NumPy broadcasting.\"\"\"\n",
    "    uav_wps =   waypoints[None, :, :] -offsets[:, None, :]\n",
    "    return uav_wps\n",
    "\n",
    "uav_wps=get_uav_wps(waypoints_np, offsets_np)\n",
    "uav_target=targets_np - offsets_np"
   ]
  },
  {
   "cell_type": "code",
   "execution_count": 7,
   "metadata": {},
   "outputs": [
    {
     "data": {
      "text/plain": [
       "array([[-40,  14,   0],\n",
       "       [-40, -16,   0]])"
      ]
     },
     "execution_count": 7,
     "metadata": {},
     "output_type": "execute_result"
    }
   ],
   "source": [
    "uav_target"
   ]
  },
  {
   "cell_type": "markdown",
   "metadata": {},
   "source": [
    "## Waypoint seletion algorithm"
   ]
  },
  {
   "cell_type": "code",
   "execution_count": 8,
   "metadata": {},
   "outputs": [
    {
     "name": "stdout",
     "output_type": "stream",
     "text": [
      "uav-0 Best path: [(0, 0), (-25, 0), (-40, 0), (-40, 14)]\n",
      "uav-1 Best path: [(0, 0), (-25, 0), (-40, 0), (-40, -16)]\n"
     ]
    }
   ],
   "source": [
    "# Compute path\n",
    "\n",
    "uavs_wps_2d=[]\n",
    "uavs_target_2d=[]\n",
    "for i in range(n_uavs):\n",
    "        wps_2d=uav_wps[i][:,:2]\n",
    "        uav_wps_2d=[tuple(wp_2d) for wp_2d in wps_2d if not np.array_equal(wp_2d, np.array([0, 0]))]\n",
    "        uav_target_2d=tuple(uav_target[i][:2])\n",
    "        print(f'uav-{i} Best path: {find_path(start=(0,0),target= uav_target_2d, waypoints=uav_wps_2d.copy())}') \n",
    "        uavs_wps_2d.append(uav_wps_2d)\n",
    "        uavs_target_2d.append(uav_target_2d)\n"
   ]
  },
  {
   "cell_type": "markdown",
   "metadata": {},
   "source": [
    "## Launch Simulator"
   ]
  },
  {
   "cell_type": "code",
   "execution_count": 9,
   "metadata": {},
   "outputs": [],
   "source": [
    "if simulator == 'QGroundControl':\n",
    "    sim_path = os.path.expanduser(QGC_path)\n",
    "    sim_cmd =[sim_path]\n",
    "elif simulator == 'gazebo':\n",
    "    # Convert to Gazebo format (name, x, y, z, roll, pitch, yaw)\n",
    "    drones = [(east, north, up, 0, 0, heading_to_yaw(heading)) for i, (east, north, up, heading) in enumerate(offsets)]\n",
    "    world_path = os.path.expanduser(gazebo_word_path)\n",
    "    updated_world_path = update_world(drones,waypoints,world_path)\n",
    "    sim_cmd = [\"gazebo\", \"--verbose\", updated_world_path] \n",
    "\n",
    "simulator_process = subprocess.Popen(\n",
    "                    sim_cmd,\n",
    "                    stdout=subprocess.DEVNULL,  # Suppress standard output\n",
    "                    stderr=subprocess.DEVNULL,  # Suppress error output\n",
    "                    shell=False  # Ensure safety when passing arguments\n",
    "                    )"
   ]
  },
  {
   "cell_type": "markdown",
   "metadata": {},
   "source": [
    "## Create Plan"
   ]
  },
  {
   "cell_type": "code",
   "execution_count": 10,
   "metadata": {},
   "outputs": [],
   "source": [
    "plan=['check_prearm','check_pos_est','mode_stabilize','mode_guided','arm','takeoff','fly','land']\n",
    "uavs_arg = []\n",
    "altitude = 5\n",
    "path_2d= [(0, 0),(-20, -10)]#      \n",
    "for i in range(n_uavs):\n",
    "    uav_arg={'waypoints':[(0, 0,init_alt[i]),tuple(uav_target[i])],\n",
    "             'plan': plan,\n",
    "             'wp_margin': 0.5}\n",
    "    uavs_arg.append(uav_arg)"
   ]
  },
  {
   "cell_type": "markdown",
   "metadata": {},
   "source": [
    "# Launch Vehicle"
   ]
  },
  {
   "cell_type": "code",
   "execution_count": 11,
   "metadata": {},
   "outputs": [],
   "source": [
    "vehicle_path = os.path.expanduser(ardupilot_vehicle_path)"
   ]
  },
  {
   "cell_type": "code",
   "execution_count": 12,
   "metadata": {},
   "outputs": [],
   "source": [
    "for i in range(n_uavs):\n",
    "    vehicle_cmd = f\"python3 {vehicle_path} -v ArduCopter -I{i} --sysid {i+1} --no-rebuild\"\n",
    "    if simulator == 'QGroundControl':\n",
    "        spawn=','.join(map(str, spawns[i]))\n",
    "        vehicle_cmd += f\" --custom-location={spawn}\"\n",
    "    elif simulator == 'gazebo':\n",
    "        vehicle_cmd += \" -f gazebo-iris\"\n",
    "    subprocess.Popen([\"gnome-terminal\", \"--\", \"bash\", \"-c\", f\"{vehicle_cmd}; exec bash\"])"
   ]
  },
  {
   "cell_type": "markdown",
   "metadata": {},
   "source": [
    "## Create UavLogic"
   ]
  },
  {
   "cell_type": "code",
   "execution_count": 13,
   "metadata": {},
   "outputs": [
    {
     "name": "stdout",
     "output_type": "stream",
     "text": [
      "vehicle 1 created\n",
      "vehicle 2 created\n"
     ]
    }
   ],
   "source": [
    "uavs=[]\n",
    "for i,uav_arg in enumerate(uavs_arg):\n",
    "    connection = mavutil.mavlink_connection(f'udp:127.0.0.1:{14551+10*i}')\n",
    "    connection.wait_heartbeat()\n",
    "    uav=VehicleLogic(connection,**uav_arg)\n",
    "    uavs.append(uav)"
   ]
  },
  {
   "cell_type": "code",
   "execution_count": 14,
   "metadata": {},
   "outputs": [
    {
     "data": {
      "text/plain": [
       "{'waypoints': [(0, 0, 5), (-40, -16, 0)],\n",
       " 'plan': ['check_prearm',\n",
       "  'check_pos_est',\n",
       "  'mode_stabilize',\n",
       "  'mode_guided',\n",
       "  'arm',\n",
       "  'takeoff',\n",
       "  'fly',\n",
       "  'land'],\n",
       " 'wp_margin': 0.5}"
      ]
     },
     "execution_count": 14,
     "metadata": {},
     "output_type": "execute_result"
    }
   ],
   "source": [
    "uav_arg"
   ]
  },
  {
   "cell_type": "markdown",
   "metadata": {},
   "source": [
    "## Execute Plan"
   ]
  },
  {
   "cell_type": "code",
   "execution_count": 15,
   "metadata": {},
   "outputs": [
    {
     "name": "stdout",
     "output_type": "stream",
     "text": [
      "vehicle 1: action land is done\n",
      "vehicle 2: action land is done\n",
      "vehicle 1: action check_prearm is done\n",
      "vehicle 2: action check_prearm is done\n",
      "vehicle 1: action check_pos_est is done\n",
      "vehicle 2: action check_pos_est is done\n",
      "vehicle 1: action mode_stabilize is done\n",
      "vehicle 2: action mode_stabilize is done\n",
      "vehicle 1: action mode_guided is done\n",
      "vehicle 2: action mode_guided is done\n",
      "vehicle 1: action arm is done\n",
      "vehicle 2: action arm is done\n",
      "--- waypoint 1 reached --- \n",
      "current position: (0.01,0.01)\n",
      "next waypoint: (-25, 0)\n",
      "target position: (-40, 14)\n",
      "--- waypoint 1 reached --- \n",
      "current position: (0.01,0.01)\n",
      "next waypoint: (-25, 0)\n",
      "target position: (-40, -16)\n",
      "vehicle 1: action takeoff is done\n",
      "[(0.011977975256741047, 0.014475650154054165, 5), (-25, 0, 5), (-40, 14, 5)]\n",
      "vehicle 2: action takeoff is done\n",
      "[(0.011654230765998363, 0.012608680874109268, 5), (-25, 0, 5), (-40, -16, 5)]\n",
      "[(0.011977975256741047, 0.014475650154054165, 5), (-25, 0, 5), (-40, 14, 5)]\n",
      "[(0.011654230765998363, 0.012608680874109268, 5), (-25, 0, 5), (-40, -16, 5)]\n",
      "[(0.011977975256741047, 0.014475650154054165, 5), (-25, 0, 5), (-40, 14, 5)]\n",
      "[(0.011654230765998363, 0.012608680874109268, 5), (-25, 0, 5), (-40, -16, 5)]\n",
      "[(0.011977975256741047, 0.014475650154054165, 5), (-25, 0, 5), (-40, 14, 5)]\n",
      "[(0.011654230765998363, 0.012608680874109268, 5), (-25, 0, 5), (-40, -16, 5)]\n",
      "[(0.011977975256741047, 0.014475650154054165, 5), (-25, 0, 5), (-40, 14, 5)]\n",
      "[(0.011654230765998363, 0.012608680874109268, 5), (-25, 0, 5), (-40, -16, 5)]\n",
      "[(0.011977975256741047, 0.014475650154054165, 5), (-25, 0, 5), (-40, 14, 5)]\n",
      "[(0.011654230765998363, 0.012608680874109268, 5), (-25, 0, 5), (-40, -16, 5)]\n",
      "[(0.011977975256741047, 0.014475650154054165, 5), (-25, 0, 5), (-40, 14, 5)]\n",
      "[(0.011654230765998363, 0.012608680874109268, 5), (-25, 0, 5), (-40, -16, 5)]\n",
      "[(0.011977975256741047, 0.014475650154054165, 5), (-25, 0, 5), (-40, 14, 5)]\n",
      "[(0.011654230765998363, 0.012608680874109268, 5), (-25, 0, 5), (-40, -16, 5)]\n",
      "[(0.011977975256741047, 0.014475650154054165, 5), (-25, 0, 5), (-40, 14, 5)]\n",
      "[(0.011654230765998363, 0.012608680874109268, 5), (-25, 0, 5), (-40, -16, 5)]\n",
      "[(0.011977975256741047, 0.014475650154054165, 5), (-25, 0, 5), (-40, 14, 5)]\n",
      "[(0.011654230765998363, 0.012608680874109268, 5), (-25, 0, 5), (-40, -16, 5)]\n",
      "[(0.011977975256741047, 0.014475650154054165, 5), (-25, 0, 5), (-40, 14, 5)]\n",
      "[(0.011654230765998363, 0.012608680874109268, 5), (-25, 0, 5), (-40, -16, 5)]\n",
      "[(0.011977975256741047, 0.014475650154054165, 5), (-25, 0, 5), (-40, 14, 5)]\n",
      "[(0.011654230765998363, 0.012608680874109268, 5), (-25, 0, 5), (-40, -16, 5)]\n",
      "[(0.011977975256741047, 0.014475650154054165, 5), (-25, 0, 5), (-40, 14, 5)]\n",
      "[(0.011654230765998363, 0.012608680874109268, 5), (-25, 0, 5), (-40, -16, 5)]\n",
      "[(0.011977975256741047, 0.014475650154054165, 5), (-25, 0, 5), (-40, 14, 5)]\n",
      "[(0.011654230765998363, 0.012608680874109268, 5), (-25, 0, 5), (-40, -16, 5)]\n",
      "[(0.011977975256741047, 0.014475650154054165, 5), (-25, 0, 5), (-40, 14, 5)]\n",
      "[(0.011654230765998363, 0.012608680874109268, 5), (-25, 0, 5), (-40, -16, 5)]\n",
      "[(0.011977975256741047, 0.014475650154054165, 5), (-25, 0, 5), (-40, 14, 5)]\n",
      "[(0.011654230765998363, 0.012608680874109268, 5), (-25, 0, 5), (-40, -16, 5)]\n",
      "[(0.011977975256741047, 0.014475650154054165, 5), (-25, 0, 5), (-40, 14, 5)]\n",
      "[(0.011654230765998363, 0.012608680874109268, 5), (-25, 0, 5), (-40, -16, 5)]\n",
      "[(0.011977975256741047, 0.014475650154054165, 5), (-25, 0, 5), (-40, 14, 5)]\n",
      "[(0.011654230765998363, 0.012608680874109268, 5), (-25, 0, 5), (-40, -16, 5)]\n",
      "[(0.011977975256741047, 0.014475650154054165, 5), (-25, 0, 5), (-40, 14, 5)]\n",
      "[(0.011654230765998363, 0.012608680874109268, 5), (-25, 0, 5), (-40, -16, 5)]\n",
      "[(0.011977975256741047, 0.014475650154054165, 5), (-25, 0, 5), (-40, 14, 5)]\n",
      "[(0.011654230765998363, 0.012608680874109268, 5), (-25, 0, 5), (-40, -16, 5)]\n",
      "[(0.011977975256741047, 0.014475650154054165, 5), (-25, 0, 5), (-40, 14, 5)]\n",
      "[(0.011654230765998363, 0.012608680874109268, 5), (-25, 0, 5), (-40, -16, 5)]\n",
      "[(0.011977975256741047, 0.014475650154054165, 5), (-25, 0, 5), (-40, 14, 5)]\n",
      "[(0.011654230765998363, 0.012608680874109268, 5), (-25, 0, 5), (-40, -16, 5)]\n",
      "[(0.011977975256741047, 0.014475650154054165, 5), (-25, 0, 5), (-40, 14, 5)]\n",
      "[(0.011654230765998363, 0.012608680874109268, 5), (-25, 0, 5), (-40, -16, 5)]\n",
      "[(0.011977975256741047, 0.014475650154054165, 5), (-25, 0, 5), (-40, 14, 5)]\n",
      "[(0.011654230765998363, 0.012608680874109268, 5), (-25, 0, 5), (-40, -16, 5)]\n",
      "[(0.011977975256741047, 0.014475650154054165, 5), (-25, 0, 5), (-40, 14, 5)]\n",
      "[(0.011654230765998363, 0.012608680874109268, 5), (-25, 0, 5), (-40, -16, 5)]\n",
      "[(0.011977975256741047, 0.014475650154054165, 5), (-25, 0, 5), (-40, 14, 5)]\n",
      "[(0.011654230765998363, 0.012608680874109268, 5), (-25, 0, 5), (-40, -16, 5)]\n",
      "[(0.011977975256741047, 0.014475650154054165, 5), (-25, 0, 5), (-40, 14, 5)]\n",
      "--- waypoint 2 reached --- \n",
      "current position: (-24.80,0.00)\n",
      "next waypoint: (-40, 0)\n",
      "target position: (-40, 14)\n",
      "[(0.011654230765998363, 0.012608680874109268, 5), (-25, 0, 5), (-40, -16, 5)]\n",
      "[(-24.803916931152344, 0.0020544989965856075, 5), (-40, 0, 5), (-40, 14, 5)]\n",
      "[(0.011654230765998363, 0.012608680874109268, 5), (-25, 0, 5), (-40, -16, 5)]\n",
      "[(-24.803916931152344, 0.0020544989965856075, 5), (-40, 0, 5), (-40, 14, 5)]\n",
      "[(0.011654230765998363, 0.012608680874109268, 5), (-25, 0, 5), (-40, -16, 5)]\n",
      "--- waypoint 2 reached --- \n",
      "current position: (-24.91,0.00)\n",
      "next waypoint: (-40, 0)\n",
      "target position: (-40, -16)\n",
      "[(-24.803916931152344, 0.0020544989965856075, 5), (-40, 0, 5), (-40, 14, 5)]\n",
      "[(-24.914533615112305, 0.0019225289579480886, 5), (-40, 0, 5), (-40, -16, 5)]\n",
      "[(-24.803916931152344, 0.0020544989965856075, 5), (-40, 0, 5), (-40, 14, 5)]\n",
      "[(-24.914533615112305, 0.0019225289579480886, 5), (-40, 0, 5), (-40, -16, 5)]\n",
      "[(-24.803916931152344, 0.0020544989965856075, 5), (-40, 0, 5), (-40, 14, 5)]\n",
      "[(-24.914533615112305, 0.0019225289579480886, 5), (-40, 0, 5), (-40, -16, 5)]\n",
      "[(-24.803916931152344, 0.0020544989965856075, 5), (-40, 0, 5), (-40, 14, 5)]\n",
      "[(-24.914533615112305, 0.0019225289579480886, 5), (-40, 0, 5), (-40, -16, 5)]\n",
      "[(-24.803916931152344, 0.0020544989965856075, 5), (-40, 0, 5), (-40, 14, 5)]\n",
      "[(-24.914533615112305, 0.0019225289579480886, 5), (-40, 0, 5), (-40, -16, 5)]\n",
      "[(-24.803916931152344, 0.0020544989965856075, 5), (-40, 0, 5), (-40, 14, 5)]\n",
      "[(-24.914533615112305, 0.0019225289579480886, 5), (-40, 0, 5), (-40, -16, 5)]\n",
      "[(-24.803916931152344, 0.0020544989965856075, 5), (-40, 0, 5), (-40, 14, 5)]\n",
      "[(-24.914533615112305, 0.0019225289579480886, 5), (-40, 0, 5), (-40, -16, 5)]\n",
      "[(-24.803916931152344, 0.0020544989965856075, 5), (-40, 0, 5), (-40, 14, 5)]\n",
      "[(-24.914533615112305, 0.0019225289579480886, 5), (-40, 0, 5), (-40, -16, 5)]\n",
      "[(-24.803916931152344, 0.0020544989965856075, 5), (-40, 0, 5), (-40, 14, 5)]\n",
      "[(-24.914533615112305, 0.0019225289579480886, 5), (-40, 0, 5), (-40, -16, 5)]\n",
      "[(-24.803916931152344, 0.0020544989965856075, 5), (-40, 0, 5), (-40, 14, 5)]\n",
      "[(-24.914533615112305, 0.0019225289579480886, 5), (-40, 0, 5), (-40, -16, 5)]\n",
      "[(-24.803916931152344, 0.0020544989965856075, 5), (-40, 0, 5), (-40, 14, 5)]\n",
      "[(-24.914533615112305, 0.0019225289579480886, 5), (-40, 0, 5), (-40, -16, 5)]\n",
      "[(-24.803916931152344, 0.0020544989965856075, 5), (-40, 0, 5), (-40, 14, 5)]\n",
      "[(-24.914533615112305, 0.0019225289579480886, 5), (-40, 0, 5), (-40, -16, 5)]\n",
      "[(-24.803916931152344, 0.0020544989965856075, 5), (-40, 0, 5), (-40, 14, 5)]\n",
      "[(-24.914533615112305, 0.0019225289579480886, 5), (-40, 0, 5), (-40, -16, 5)]\n",
      "[(-24.803916931152344, 0.0020544989965856075, 5), (-40, 0, 5), (-40, 14, 5)]\n",
      "[(-24.914533615112305, 0.0019225289579480886, 5), (-40, 0, 5), (-40, -16, 5)]\n",
      "[(-24.803916931152344, 0.0020544989965856075, 5), (-40, 0, 5), (-40, 14, 5)]\n",
      "[(-24.914533615112305, 0.0019225289579480886, 5), (-40, 0, 5), (-40, -16, 5)]\n",
      "[(-24.803916931152344, 0.0020544989965856075, 5), (-40, 0, 5), (-40, 14, 5)]\n",
      "[(-24.914533615112305, 0.0019225289579480886, 5), (-40, 0, 5), (-40, -16, 5)]\n",
      "[(-24.803916931152344, 0.0020544989965856075, 5), (-40, 0, 5), (-40, 14, 5)]\n",
      "[(-24.914533615112305, 0.0019225289579480886, 5), (-40, 0, 5), (-40, -16, 5)]\n",
      "[(-24.803916931152344, 0.0020544989965856075, 5), (-40, 0, 5), (-40, 14, 5)]\n",
      "--- waypoint 3 reached --- \n",
      "current position: (-39.79,-0.01)\n",
      "next waypoint: (-40, 14)\n",
      "target position: (-40, 14)\n",
      "[(-24.914533615112305, 0.0019225289579480886, 5), (-40, 0, 5), (-40, -16, 5)]\n",
      "[(-39.7863883972168, -0.013658737763762474, 5), (-40, 14, 5)]\n",
      "[(-24.914533615112305, 0.0019225289579480886, 5), (-40, 0, 5), (-40, -16, 5)]\n",
      "[(-39.7863883972168, -0.013658737763762474, 5), (-40, 14, 5)]\n",
      "[(-24.914533615112305, 0.0019225289579480886, 5), (-40, 0, 5), (-40, -16, 5)]\n",
      "[(-39.7863883972168, -0.013658737763762474, 5), (-40, 14, 5)]\n",
      "[(-24.914533615112305, 0.0019225289579480886, 5), (-40, 0, 5), (-40, -16, 5)]\n",
      "[(-39.7863883972168, -0.013658737763762474, 5), (-40, 14, 5)]\n",
      "[(-24.914533615112305, 0.0019225289579480886, 5), (-40, 0, 5), (-40, -16, 5)]\n",
      "--- waypoint 3 reached --- \n",
      "current position: (-39.88,-0.00)\n",
      "next waypoint: (-40, -16)\n",
      "target position: (-40, -16)\n",
      "[(-39.7863883972168, -0.013658737763762474, 5), (-40, 14, 5)]\n",
      "[(-39.88417434692383, -0.003814087714999914, 5), (-40, -16, 5)]\n",
      "[(-39.7863883972168, -0.013658737763762474, 5), (-40, 14, 5)]\n",
      "[(-39.88417434692383, -0.003814087714999914, 5), (-40, -16, 5)]\n",
      "[(-39.7863883972168, -0.013658737763762474, 5), (-40, 14, 5)]\n",
      "[(-39.88417434692383, -0.003814087714999914, 5), (-40, -16, 5)]\n",
      "[(-39.7863883972168, -0.013658737763762474, 5), (-40, 14, 5)]\n",
      "[(-39.88417434692383, -0.003814087714999914, 5), (-40, -16, 5)]\n",
      "[(-39.7863883972168, -0.013658737763762474, 5), (-40, 14, 5)]\n",
      "[(-39.88417434692383, -0.003814087714999914, 5), (-40, -16, 5)]\n",
      "[(-39.7863883972168, -0.013658737763762474, 5), (-40, 14, 5)]\n",
      "[(-39.88417434692383, -0.003814087714999914, 5), (-40, -16, 5)]\n",
      "[(-39.7863883972168, -0.013658737763762474, 5), (-40, 14, 5)]\n",
      "[(-39.88417434692383, -0.003814087714999914, 5), (-40, -16, 5)]\n",
      "[(-39.7863883972168, -0.013658737763762474, 5), (-40, 14, 5)]\n",
      "[(-39.88417434692383, -0.003814087714999914, 5), (-40, -16, 5)]\n",
      "[(-39.7863883972168, -0.013658737763762474, 5), (-40, 14, 5)]\n",
      "[(-39.88417434692383, -0.003814087714999914, 5), (-40, -16, 5)]\n",
      "[(-39.7863883972168, -0.013658737763762474, 5), (-40, 14, 5)]\n",
      "[(-39.88417434692383, -0.003814087714999914, 5), (-40, -16, 5)]\n",
      "[(-39.7863883972168, -0.013658737763762474, 5), (-40, 14, 5)]\n",
      "[(-39.88417434692383, -0.003814087714999914, 5), (-40, -16, 5)]\n",
      "[(-39.7863883972168, -0.013658737763762474, 5), (-40, 14, 5)]\n",
      "[(-39.88417434692383, -0.003814087714999914, 5), (-40, -16, 5)]\n",
      "[(-39.7863883972168, -0.013658737763762474, 5), (-40, 14, 5)]\n",
      "[(-39.88417434692383, -0.003814087714999914, 5), (-40, -16, 5)]\n",
      "[(-39.7863883972168, -0.013658737763762474, 5), (-40, 14, 5)]\n",
      "[(-39.88417434692383, -0.003814087714999914, 5), (-40, -16, 5)]\n",
      "[(-39.7863883972168, -0.013658737763762474, 5), (-40, 14, 5)]\n",
      "[(-39.88417434692383, -0.003814087714999914, 5), (-40, -16, 5)]\n",
      "[(-39.7863883972168, -0.013658737763762474, 5), (-40, 14, 5)]\n",
      "[(-39.88417434692383, -0.003814087714999914, 5), (-40, -16, 5)]\n",
      "[(-39.88417434692383, -0.003814087714999914, 5), (-40, -16, 5)]\n",
      "vehicle 1: action fly is done\n",
      "[(-39.88417434692383, -0.003814087714999914, 5), (-40, -16, 5)]\n",
      "[(-39.88417434692383, -0.003814087714999914, 5), (-40, -16, 5)]\n",
      "[(-39.88417434692383, -0.003814087714999914, 5), (-40, -16, 5)]\n",
      "[(-39.88417434692383, -0.003814087714999914, 5), (-40, -16, 5)]\n",
      "[(-39.88417434692383, -0.003814087714999914, 5), (-40, -16, 5)]\n",
      "[(-39.88417434692383, -0.003814087714999914, 5), (-40, -16, 5)]\n",
      "vehicle 2: action fly is done\n",
      "vehicle 1: action land is done\n",
      "vehicle 2: action land is done\n"
     ]
    }
   ],
   "source": [
    "mission_incomplete = n_uavs*[True]\n",
    "target_reached =n_uavs*[False] \n",
    "waypoints=uavs_wps_2d\n",
    "wp=n_uavs*[0]\n",
    "while any(mission_incomplete):\n",
    "    for i,uav in enumerate(uavs):\n",
    "        mission_incomplete[i] = uav.act_plan()\n",
    "        if uav.is_reached and (not target_reached[i]):\n",
    "            wp[i]+=1\n",
    "            target=uavs_target_2d[i]\n",
    "            current = uav.get_local_position()[:2]\n",
    "            # GPS spoofing\n",
    "            # if manhattan_distance(current,(-25, 0))<1:\n",
    "            #     current=(-25, -20)\n",
    "            best_waypoint = find_best_waypoint(current, target, waypoints[i])\n",
    "            waypoints[i].remove(best_waypoint) \n",
    "            path_2d=[current,best_waypoint]\n",
    "            if best_waypoint!=target:\n",
    "                path_2d.append(target)\n",
    "            else:\n",
    "                target_reached[i]=True\n",
    "            print(f'--- waypoint {wp[i]} reached --- ')\n",
    "            print(f'current position: ({path_2d[0][0]:.2f},{path_2d[0][1]:.2f})')\n",
    "            print(f'next waypoint: {path_2d[1]}')\n",
    "            print(f'target position: {path_2d[-1]}')\n",
    "            path = [(x, y, altitude) for x, y in path_2d]\n",
    "            uav.update_waypoints(path)\n",
    "        "
   ]
  },
  {
   "cell_type": "markdown",
   "metadata": {},
   "source": [
    "## Kill all related process"
   ]
  },
  {
   "cell_type": "code",
   "execution_count": 16,
   "metadata": {},
   "outputs": [],
   "source": [
    "# for process in [\"QGroundControl\", \"sim_vehicle.py\", \"arducopter\", \"gazebo\", \"mavproxy\"]:\n",
    "#     os.system(f\"pkill -9 -f {process}\")"
   ]
  }
 ],
 "metadata": {
  "kernelspec": {
   "display_name": "pymavlink",
   "language": "python",
   "name": "python3"
  },
  "language_info": {
   "codemirror_mode": {
    "name": "ipython",
    "version": 3
   },
   "file_extension": ".py",
   "mimetype": "text/x-python",
   "name": "python",
   "nbconvert_exporter": "python",
   "pygments_lexer": "ipython3",
   "version": "3.9.21"
  }
 },
 "nbformat": 4,
 "nbformat_minor": 2
}
